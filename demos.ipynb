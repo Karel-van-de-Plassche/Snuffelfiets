{
 "cells": [
  {
   "cell_type": "markdown",
   "metadata": {},
   "source": [
    "# Snuffelfiets"
   ]
  },
  {
   "cell_type": "code",
   "execution_count": null,
   "metadata": {},
   "outputs": [],
   "source": [
    "# Generieke imports, variabelen en functies.\n",
    "\n",
    "from pathlib import Path\n",
    "import numpy as np\n",
    "import pandas as pd\n",
    "from snuffelfiets import inlezen, opschonen, analyse, plotting\n",
    "\n",
    "api_key = ''  # voeg hier de API key toe\n",
    "output_map = ''  # voeg hier de data directory toe\n",
    "sep_output = ';'\n",
    "decimal_output = '.'\n",
    "\n",
    "start_datum = '2023-01-01'\n",
    "stop_datum = '2023-03-01'\n",
    "\n",
    "def build_path(output_map, output_fn, start_datum, stop_datum):\n",
    "    return Path(output_map, f'{output_fn}{start_datum}_tot_{stop_datum}.csv')\n"
   ]
  },
  {
   "cell_type": "markdown",
   "metadata": {},
   "source": [
    "## Inlezen van de data uit de database"
   ]
  },
  {
   "cell_type": "markdown",
   "metadata": {},
   "source": [
    "TODO ... beschrijving ..."
   ]
  },
  {
   "cell_type": "code",
   "execution_count": null,
   "metadata": {},
   "outputs": [],
   "source": [
    "# Lees de data in uit de databasebase.\n",
    "df = inlezen.call_api(api_key, start_datum, stop_datum)\n",
    "\n",
    "# Schrijf de data naar een csv.\n",
    "output_path_list = [output_map, 'api_gegevens_', start_datum, stop_datum]\n",
    "output_file_path = build_path(*output_path_list)\n",
    "df.to_csv(output_file_path, sep=sep_output, decimal=decimal_output, index=False)\n"
   ]
  },
  {
   "cell_type": "markdown",
   "metadata": {},
   "source": [
    "## Opschonen van de data"
   ]
  },
  {
   "cell_type": "code",
   "execution_count": null,
   "metadata": {},
   "outputs": [],
   "source": [
    "# Lees de data uit de csv.\n",
    "output_path_list = [output_map, 'api_gegevens_', start_datum, stop_datum]\n",
    "output_file_path = build_path(*output_path_list)\n",
    "df = pd.read_csv(output_file_path, sep=sep_output, decimal=decimal_output)\n",
    "\n",
    "# Corrigeer kolommen met default settings.\n",
    "df = opschonen.correct_units(df)\n",
    "\n",
    "# Verwijder ongeldige records\n",
    "df = opschonen.verwijder_errors(df)  # , error_codes=[1, 4, 8, 16, 512, 1024, 4096]\n",
    "\n",
    "# Schrijf de schone data naar een csv.\n",
    "output_path_list = [output_map, 'clean_gegevens_', start_datum, stop_datum]\n",
    "output_file_path = build_path(*output_path_list)\n",
    "df.to_csv(output_file_path, sep=sep_output, decimal=decimal_output, index=False)\n"
   ]
  },
  {
   "cell_type": "markdown",
   "metadata": {},
   "source": [
    "## Analyse van de data."
   ]
  },
  {
   "cell_type": "code",
   "execution_count": null,
   "metadata": {},
   "outputs": [],
   "source": [
    "# Lees de data uit de csv.\n",
    "output_path_list = [output_map, 'clean_gegevens_', start_datum, stop_datum]\n",
    "output_file_path = build_path(*output_path_list)\n",
    "df = pd.read_csv(output_file_path, sep=sep_output, decimal=decimal_output)\n",
    "df.shape\n"
   ]
  },
  {
   "cell_type": "markdown",
   "metadata": {},
   "source": [
    "### Filteren van kolommen en rijen"
   ]
  },
  {
   "cell_type": "code",
   "execution_count": null,
   "metadata": {},
   "outputs": [],
   "source": [
    "# Reduceer dataframe tot kolommen in de lijst.\n",
    "cols = ['entity_id', 'recording_timestamp', 'latitude', 'longitude', 'pm2_5']\n",
    "df = opschonen.filter_columns(df, cols)\n",
    "list(df.columns)\n"
   ]
  },
  {
   "cell_type": "code",
   "execution_count": null,
   "metadata": {},
   "outputs": [],
   "source": []
  },
  {
   "cell_type": "markdown",
   "metadata": {},
   "source": [
    "### Bereken basisinfo uit ruwe data"
   ]
  },
  {
   "cell_type": "code",
   "execution_count": null,
   "metadata": {},
   "outputs": [],
   "source": [
    "df = analyse.verdeel_in_ritten(df, t_seconden=30*60)\n",
    "df = analyse.bereken_afstanden(df)\n",
    "np.unique(df.rit_id)\n"
   ]
  },
  {
   "cell_type": "code",
   "execution_count": null,
   "metadata": {},
   "outputs": [],
   "source": []
  },
  {
   "cell_type": "markdown",
   "metadata": {},
   "source": [
    "## Plot de resultaten"
   ]
  },
  {
   "cell_type": "markdown",
   "metadata": {},
   "source": [
    "### Maak een hexbin plot"
   ]
  },
  {
   "cell_type": "code",
   "execution_count": null,
   "metadata": {},
   "outputs": [],
   "source": [
    "# de default plot\n",
    "fig = plotting.hexbin_mapbox(df)\n",
    "fig.show()\n"
   ]
  },
  {
   "cell_type": "code",
   "execution_count": null,
   "metadata": {},
   "outputs": [],
   "source": [
    "# save in verschillende formats\n",
    "output_path = Path(output_map, 'hexbin').expanduser()\n",
    "formats = ['html', 'pdf', 'jpg']\n",
    "plotting.save_fig(fig, output_path, formats)\n"
   ]
  },
  {
   "cell_type": "code",
   "execution_count": null,
   "metadata": {},
   "outputs": [],
   "source": [
    "# voorbeeld van een override van de default settings\n",
    "fig = plotting.hexbin_mapbox(\n",
    "    df,\n",
    "    hexbin_args={'color_continuous_scale': ['blue', 'red']},\n",
    "    layout_args={'mapbox_style': 'open-street-map'},\n",
    "    )\n",
    "fig.show()\n"
   ]
  }
 ],
 "metadata": {
  "kernelspec": {
   "display_name": "snuffelfiets",
   "language": "python",
   "name": "python3"
  },
  "language_info": {
   "codemirror_mode": {
    "name": "ipython",
    "version": 3
   },
   "file_extension": ".py",
   "mimetype": "text/x-python",
   "name": "python",
   "nbconvert_exporter": "python",
   "pygments_lexer": "ipython3",
   "version": "3.11.4"
  },
  "orig_nbformat": 4
 },
 "nbformat": 4,
 "nbformat_minor": 2
}
