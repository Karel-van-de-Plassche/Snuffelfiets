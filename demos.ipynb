{
 "cells": [
  {
   "cell_type": "markdown",
   "metadata": {},
   "source": [
    "# Snuffelfiets"
   ]
  },
  {
   "cell_type": "code",
   "execution_count": null,
   "metadata": {},
   "outputs": [],
   "source": [
    "# Generieke imports, variabelen en functies.\n",
    "\n",
    "from pathlib import Path\n",
    "import numpy as np\n",
    "import pandas as pd\n",
    "from snuffelfiets import inlezen, opschonen, analyse, plotting\n",
    "\n",
    "api_key = ''  # voeg hier de API key toe\n",
    "output_map = ''  # voeg hier de data directory toe\n",
    "sep_output = ';'\n",
    "decimal_output = '.'\n",
    "\n",
    "start_datum = '2023-01-01'\n",
    "stop_datum = '2023-03-01'\n",
    "\n",
    "def build_path(output_map, output_fn, start_datum, stop_datum):\n",
    "    return Path(output_map, f'{output_fn}{start_datum}_tot_{stop_datum}.csv')\n"
   ]
  },
  {
   "cell_type": "markdown",
   "metadata": {},
   "source": [
    "## Inlezen van de data uit de database"
   ]
  },
  {
   "cell_type": "markdown",
   "metadata": {},
   "source": [
    "TODO ... beschrijving ..."
   ]
  },
  {
   "cell_type": "code",
   "execution_count": null,
   "metadata": {},
   "outputs": [],
   "source": [
    "# Lees de data in uit de databasebase.\n",
    "df = inlezen.call_api(api_key, start_datum, stop_datum)\n",
    "\n",
    "# Schrijf de data naar een csv.\n",
    "output_path_list = [output_map, 'api_gegevens_', start_datum, stop_datum]\n",
    "output_file_path = build_path(*output_path_list)\n",
    "df.to_csv(output_file_path, sep=sep_output, decimal=decimal_output, index=False)\n"
   ]
  },
  {
   "cell_type": "markdown",
   "metadata": {},
   "source": [
    "## Opschonen van de data"
   ]
  },
  {
   "cell_type": "code",
   "execution_count": null,
   "metadata": {},
   "outputs": [],
   "source": [
    "# Lees de data uit de csv.\n",
    "output_path_list = [output_map, 'api_gegevens_', start_datum, stop_datum]\n",
    "output_file_path = build_path(*output_path_list)\n",
    "df = pd.read_csv(output_file_path, sep=sep_output, decimal=decimal_output)\n",
    "\n",
    "# Corrigeer kolommen met default settings.\n",
    "df = opschonen.correct_units(df)\n",
    "\n",
    "# Verwijder ongeldige records\n",
    "df = opschonen.verwijder_errors(df)  # , error_codes=[1, 4, 8, 16, 512, 1024, 4096]\n",
    "\n",
    "# Schrijf de schone data naar een csv.\n",
    "output_path_list = [output_map, 'clean_gegevens_', start_datum, stop_datum]\n",
    "output_file_path = build_path(*output_path_list)\n",
    "df.to_csv(output_file_path, sep=sep_output, decimal=decimal_output, index=False)\n"
   ]
  },
  {
   "cell_type": "markdown",
   "metadata": {},
   "source": [
    "## Analyse van de data."
   ]
  },
  {
   "cell_type": "markdown",
   "metadata": {},
   "source": [
    "### Analyse 1 ..."
   ]
  },
  {
   "cell_type": "code",
   "execution_count": null,
   "metadata": {},
   "outputs": [],
   "source": [
    "# TODO\n"
   ]
  },
  {
   "cell_type": "markdown",
   "metadata": {},
   "source": [
    "### Analyse 2 ..."
   ]
  },
  {
   "cell_type": "code",
   "execution_count": null,
   "metadata": {},
   "outputs": [],
   "source": [
    "# TODO\n"
   ]
  },
  {
   "cell_type": "markdown",
   "metadata": {},
   "source": [
    "## Plotten van de data."
   ]
  },
  {
   "cell_type": "markdown",
   "metadata": {},
   "source": [
    "### Plottype 1 ..."
   ]
  },
  {
   "cell_type": "code",
   "execution_count": null,
   "metadata": {},
   "outputs": [],
   "source": [
    "# TODO\n"
   ]
  },
  {
   "cell_type": "markdown",
   "metadata": {},
   "source": [
    "### Plottype 2 ..."
   ]
  },
  {
   "cell_type": "code",
   "execution_count": null,
   "metadata": {},
   "outputs": [],
   "source": [
    "# TODO\n"
   ]
  }
 ],
 "metadata": {
  "kernelspec": {
   "display_name": "snuffelfiets",
   "language": "python",
   "name": "python3"
  },
  "language_info": {
   "codemirror_mode": {
    "name": "ipython",
    "version": 3
   },
   "file_extension": ".py",
   "mimetype": "text/x-python",
   "name": "python",
   "nbconvert_exporter": "python",
   "pygments_lexer": "ipython3",
   "version": "3.11.4"
  },
  "orig_nbformat": 4
 },
 "nbformat": 4,
 "nbformat_minor": 2
}
