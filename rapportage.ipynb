{
 "cells": [
  {
   "cell_type": "markdown",
   "metadata": {},
   "source": [
    "# Snuffelfiets kwartaalrapportages"
   ]
  },
  {
   "cell_type": "markdown",
   "metadata": {},
   "source": [
    "## Settings."
   ]
  },
  {
   "cell_type": "code",
   "execution_count": 1,
   "metadata": {},
   "outputs": [],
   "source": [
    "# Imports and convenience functions.\n",
    "\n",
    "from pathlib import Path\n",
    "\n",
    "import numpy as np\n",
    "import pandas as pd\n",
    "\n",
    "from snuffelfiets import inlezen, opschonen, analyse, plotting\n",
    "\n",
    "\n",
    "def get_period_info(period_spec, year, quarter, month):\n",
    "    \"\"\"Return an id-string and the months for the chosen period.\"\"\"\n",
    "\n",
    "    quarters = {\n",
    "        'Q1': [1, 2, 3], \n",
    "        'Q2': [4, 5, 6], \n",
    "        'Q3': [7, 8, 9], \n",
    "        'Q4': [10, 11, 12], \n",
    "    }\n",
    "    periods = {\n",
    "        'jaar': {\n",
    "            'period_id': f'{year}',\n",
    "            'months': list(range(1, 13)),\n",
    "        },\n",
    "        'kwartaal': {\n",
    "            'period_id': f'{year}_{quarter}',\n",
    "            'months': quarters[quarter],\n",
    "        },\n",
    "        'maand': {\n",
    "            'period_id': f'{year}_{month:02d}',\n",
    "            'months': [month],\n",
    "        }\n",
    "    }\n",
    "    period_id = periods[period_spec]['period_id']\n",
    "    months = periods[period_spec]['months']\n",
    "\n",
    "    return period_id, months\n",
    "\n",
    "\n",
    "def get_center():\n",
    "    \"\"\"Return coordinates for the center of provincie Utrecht.\"\"\"\n",
    "\n",
    "    # coordinaten van de uiterste punten van de provincie Utrecht\n",
    "    b = {\n",
    "        'N': [52.303634, 5.013507],\n",
    "        'Z':  [51.858631, 5.040462],\n",
    "        'O':  [51.954780, 5.627990],\n",
    "        'W':  [52.226808, 4.794457],\n",
    "    }\n",
    "\n",
    "    # het berekende middelpunt van de provincie Utrecht\n",
    "    center = {\n",
    "        'lat': b['Z'][0] + 0.5 * (b['N'][0] - b['Z'][0]),\n",
    "        'lon': b['W'][1] + 0.5 * (b['O'][1] - b['W'][1]),\n",
    "    }\n",
    "\n",
    "    return center\n",
    "\n",
    "\n",
    "def get_layers(data_directory):\n",
    "    \"\"\"Import Utrecht province and township polygons\"\"\"\n",
    "\n",
    "    # Download the polygons.\n",
    "    filepaths = plotting.download_borders_utrecht(data_directory)\n",
    "\n",
    "    # Extract the relevant polygons.\n",
    "    provincies, gemeenten = plotting.get_borders_utrecht(data_directory, *filepaths)\n",
    "\n",
    "    # Enter into dictionary in the mapbox_layers format.\n",
    "    mapbox_layers = [{\n",
    "        \"name\": \"Gemeenten\",\n",
    "        \"below\": 'traces',\n",
    "        \"sourcetype\": \"geojson\",\n",
    "        \"type\": \"line\",\n",
    "        \"color\": \"gray\",\n",
    "        \"source\": gemeenten,\n",
    "        }, \n",
    "        {\n",
    "        \"name\": \"Provincies\",\n",
    "        \"below\": 'traces',\n",
    "        \"sourcetype\": \"geojson\",\n",
    "        \"type\": \"line\",\n",
    "        \"color\": \"red\",\n",
    "        \"source\": provincies,\n",
    "        }]\n",
    "\n",
    "    return mapbox_layers\n"
   ]
  },
  {
   "cell_type": "code",
   "execution_count": 3,
   "metadata": {},
   "outputs": [
    {
     "name": "stdout",
     "output_type": "stream",
     "text": [
      "Analysing kwartaal 2024_Q2; writing output to C:\\Users\\milos\\Documents\\MCUdataclub\\Snuffelfiets_data_test\\rapportage\\2024_Q2.\n"
     ]
    }
   ],
   "source": [
    "# API settings.\n",
    "api_key = ''                    # de API key\n",
    "\n",
    "# File system settings.\n",
    "prefix = 'api_gegevens'         # de prefix voor de csv-datafiles; default format <prefix>_<yyyy>_<mm>.csv\n",
    "data_directory = Path(\n",
    "    Path('~').expanduser(),\n",
    "    'Documents',\n",
    "    'MCUdataclub',\n",
    "    'Snuffelfiets_data',\n",
    "    'rapportage',\n",
    "    )                           # het pad naar de folder met de data; dit wordt ook de parent folder van de output\n",
    "Path.mkdir(data_directory, parents=True, exist_ok=True)\n",
    "\n",
    "# Date range settings.\n",
    "period_spec = 'kwartaal'        # de periode waar het rapport over gaat: 'maand', 'kwartaal' of 'jaar'?\n",
    "year = 2024                     # het jaar waar het rapport over gaat\n",
    "quarter = 'Q2'                  # het kwartaal waar het rapport over gaat: 'Q1', 'Q2', 'Q3', 'Q4'\n",
    "month = 6                       # de maand waar het rapport over gaat: 1, 2, 3, ..., 10, 11, 12\n",
    "\n",
    "\n",
    "# Data processing settings.\n",
    "error_code_selection = []       # te verwijderen error codes; [] => behoud alleen error_code=0\n",
    "rit_splitter_interval = 1800    # het interval tussen ritten (s)\n",
    "ritfilters = dict(\n",
    "    min_measurements=2,             # #\n",
    "    max_duration=360,               # minutes\n",
    "    max_distance=200,               # kilometers\n",
    "    min_average_speed=1,            # km/h\n",
    "    max_average_speed=35,           # km/h\n",
    "    )                           # criteria waaraan ritten moeten voldoen\n",
    "threshold_pm2_5 = 100           # de cutoff value voor geldige PM2.5 waardes\n",
    "\n",
    "\n",
    "# Hexbin plot settings.\n",
    "mapbox_center = get_center()    # het middelpunt van de provincie Utrecht\n",
    "mapbox_extent = 1               # de breedte rondom de mapbox_center [deg lat/lon]; datapunten buiten deze breedte/lengtegraden worden verwijderd\n",
    "hexagon_size = 0.010            # de grootte van de hexagons in de hexbin plot\n",
    "hexbin_args = {\n",
    "    'agg_func': np.nanmean,\n",
    "    'color_continuous_scale': plotting.discrete_colorscale(),\n",
    "    'range_color': [0, threshold_pm2_5],\n",
    "    'min_count': 2,\n",
    "    'animation_frame': None,\n",
    "    'width': 1920,\n",
    "    'height': 1080,\n",
    "    'opacity': 1.0,\n",
    "    'zoom': 10,\n",
    "    'center': mapbox_center,\n",
    "    }                           # parameters for creating the hexbin plot\n",
    "mapbox_layers = get_layers(data_directory)\n",
    "layout_args = {\n",
    "    'mapbox_style': 'open-street-map',\n",
    "    'coloraxis_showscale': False,\n",
    "    'mapbox_layers': mapbox_layers,\n",
    "    }                           # parameters for the layout of the hexbin plot\n",
    "\n",
    "# Directories.\n",
    "period_id, months = get_period_info(period_spec, year, quarter, month)\n",
    "output_directory = Path(data_directory, period_id)\n",
    "output_directory.mkdir(parents=True, exist_ok=True)\n",
    "\n",
    "print(f'Analysing {period_spec} {period_id}; writing output to {output_directory}.')\n"
   ]
  },
  {
   "cell_type": "code",
   "execution_count": null,
   "metadata": {},
   "outputs": [],
   "source": []
  },
  {
   "cell_type": "markdown",
   "metadata": {},
   "source": [
    "## Read data from monthly CSV's.\n"
   ]
  },
  {
   "cell_type": "code",
   "execution_count": 5,
   "metadata": {},
   "outputs": [
    {
     "name": "stdout",
     "output_type": "stream",
     "text": [
      "sql statement: SELECT * FROM \"provincie_utrecht_snuffelfiets_measurement_rydruofi\" WHERE \"recording_timestamp\" > '2024-06-01' AND \"recording_timestamp\" < '2024-07-01' AND \"recording_timestamp\" > '2024-06-01' AND \"recording_timestamp\" < '2024-07-01' LIMIT 32000\n"
     ]
    },
    {
     "ename": "KeyboardInterrupt",
     "evalue": "",
     "output_type": "error",
     "traceback": [
      "\u001b[1;31m---------------------------------------------------------------------------\u001b[0m",
      "\u001b[1;31mFileNotFoundError\u001b[0m                         Traceback (most recent call last)",
      "Cell \u001b[1;32mIn[5], line 13\u001b[0m\n\u001b[0;32m     10\u001b[0m \u001b[38;5;28;01mtry\u001b[39;00m:\n\u001b[0;32m     11\u001b[0m \n\u001b[0;32m     12\u001b[0m     \u001b[38;5;66;03m# try to read the data from saved csv's\u001b[39;00m\n\u001b[1;32m---> 13\u001b[0m     df \u001b[38;5;241m=\u001b[39m \u001b[43mpd\u001b[49m\u001b[38;5;241;43m.\u001b[39;49m\u001b[43mread_csv\u001b[49m\u001b[43m(\u001b[49m\u001b[43mp\u001b[49m\u001b[43m)\u001b[49m\n\u001b[0;32m     15\u001b[0m \u001b[38;5;28;01mexcept\u001b[39;00m \u001b[38;5;167;01mFileNotFoundError\u001b[39;00m:\n\u001b[0;32m     16\u001b[0m \n\u001b[0;32m     17\u001b[0m     \u001b[38;5;66;03m# download the data if the file does not exist\u001b[39;00m\n",
      "File \u001b[1;32mc:\\Users\\milos\\miniforge3\\envs\\snuffelfiets\\Lib\\site-packages\\pandas\\io\\parsers\\readers.py:948\u001b[0m, in \u001b[0;36mread_csv\u001b[1;34m(filepath_or_buffer, sep, delimiter, header, names, index_col, usecols, dtype, engine, converters, true_values, false_values, skipinitialspace, skiprows, skipfooter, nrows, na_values, keep_default_na, na_filter, verbose, skip_blank_lines, parse_dates, infer_datetime_format, keep_date_col, date_parser, date_format, dayfirst, cache_dates, iterator, chunksize, compression, thousands, decimal, lineterminator, quotechar, quoting, doublequote, escapechar, comment, encoding, encoding_errors, dialect, on_bad_lines, delim_whitespace, low_memory, memory_map, float_precision, storage_options, dtype_backend)\u001b[0m\n\u001b[0;32m    946\u001b[0m kwds\u001b[38;5;241m.\u001b[39mupdate(kwds_defaults)\n\u001b[1;32m--> 948\u001b[0m \u001b[38;5;28;01mreturn\u001b[39;00m \u001b[43m_read\u001b[49m\u001b[43m(\u001b[49m\u001b[43mfilepath_or_buffer\u001b[49m\u001b[43m,\u001b[49m\u001b[43m \u001b[49m\u001b[43mkwds\u001b[49m\u001b[43m)\u001b[49m\n",
      "File \u001b[1;32mc:\\Users\\milos\\miniforge3\\envs\\snuffelfiets\\Lib\\site-packages\\pandas\\io\\parsers\\readers.py:611\u001b[0m, in \u001b[0;36m_read\u001b[1;34m(filepath_or_buffer, kwds)\u001b[0m\n\u001b[0;32m    610\u001b[0m \u001b[38;5;66;03m# Create the parser.\u001b[39;00m\n\u001b[1;32m--> 611\u001b[0m parser \u001b[38;5;241m=\u001b[39m \u001b[43mTextFileReader\u001b[49m\u001b[43m(\u001b[49m\u001b[43mfilepath_or_buffer\u001b[49m\u001b[43m,\u001b[49m\u001b[43m \u001b[49m\u001b[38;5;241;43m*\u001b[39;49m\u001b[38;5;241;43m*\u001b[39;49m\u001b[43mkwds\u001b[49m\u001b[43m)\u001b[49m\n\u001b[0;32m    613\u001b[0m \u001b[38;5;28;01mif\u001b[39;00m chunksize \u001b[38;5;129;01mor\u001b[39;00m iterator:\n",
      "File \u001b[1;32mc:\\Users\\milos\\miniforge3\\envs\\snuffelfiets\\Lib\\site-packages\\pandas\\io\\parsers\\readers.py:1448\u001b[0m, in \u001b[0;36mTextFileReader.__init__\u001b[1;34m(self, f, engine, **kwds)\u001b[0m\n\u001b[0;32m   1447\u001b[0m \u001b[38;5;28mself\u001b[39m\u001b[38;5;241m.\u001b[39mhandles: IOHandles \u001b[38;5;241m|\u001b[39m \u001b[38;5;28;01mNone\u001b[39;00m \u001b[38;5;241m=\u001b[39m \u001b[38;5;28;01mNone\u001b[39;00m\n\u001b[1;32m-> 1448\u001b[0m \u001b[38;5;28mself\u001b[39m\u001b[38;5;241m.\u001b[39m_engine \u001b[38;5;241m=\u001b[39m \u001b[38;5;28;43mself\u001b[39;49m\u001b[38;5;241;43m.\u001b[39;49m\u001b[43m_make_engine\u001b[49m\u001b[43m(\u001b[49m\u001b[43mf\u001b[49m\u001b[43m,\u001b[49m\u001b[43m \u001b[49m\u001b[38;5;28;43mself\u001b[39;49m\u001b[38;5;241;43m.\u001b[39;49m\u001b[43mengine\u001b[49m\u001b[43m)\u001b[49m\n",
      "File \u001b[1;32mc:\\Users\\milos\\miniforge3\\envs\\snuffelfiets\\Lib\\site-packages\\pandas\\io\\parsers\\readers.py:1705\u001b[0m, in \u001b[0;36mTextFileReader._make_engine\u001b[1;34m(self, f, engine)\u001b[0m\n\u001b[0;32m   1704\u001b[0m         mode \u001b[38;5;241m+\u001b[39m\u001b[38;5;241m=\u001b[39m \u001b[38;5;124m\"\u001b[39m\u001b[38;5;124mb\u001b[39m\u001b[38;5;124m\"\u001b[39m\n\u001b[1;32m-> 1705\u001b[0m \u001b[38;5;28mself\u001b[39m\u001b[38;5;241m.\u001b[39mhandles \u001b[38;5;241m=\u001b[39m \u001b[43mget_handle\u001b[49m\u001b[43m(\u001b[49m\n\u001b[0;32m   1706\u001b[0m \u001b[43m    \u001b[49m\u001b[43mf\u001b[49m\u001b[43m,\u001b[49m\n\u001b[0;32m   1707\u001b[0m \u001b[43m    \u001b[49m\u001b[43mmode\u001b[49m\u001b[43m,\u001b[49m\n\u001b[0;32m   1708\u001b[0m \u001b[43m    \u001b[49m\u001b[43mencoding\u001b[49m\u001b[38;5;241;43m=\u001b[39;49m\u001b[38;5;28;43mself\u001b[39;49m\u001b[38;5;241;43m.\u001b[39;49m\u001b[43moptions\u001b[49m\u001b[38;5;241;43m.\u001b[39;49m\u001b[43mget\u001b[49m\u001b[43m(\u001b[49m\u001b[38;5;124;43m\"\u001b[39;49m\u001b[38;5;124;43mencoding\u001b[39;49m\u001b[38;5;124;43m\"\u001b[39;49m\u001b[43m,\u001b[49m\u001b[43m \u001b[49m\u001b[38;5;28;43;01mNone\u001b[39;49;00m\u001b[43m)\u001b[49m\u001b[43m,\u001b[49m\n\u001b[0;32m   1709\u001b[0m \u001b[43m    \u001b[49m\u001b[43mcompression\u001b[49m\u001b[38;5;241;43m=\u001b[39;49m\u001b[38;5;28;43mself\u001b[39;49m\u001b[38;5;241;43m.\u001b[39;49m\u001b[43moptions\u001b[49m\u001b[38;5;241;43m.\u001b[39;49m\u001b[43mget\u001b[49m\u001b[43m(\u001b[49m\u001b[38;5;124;43m\"\u001b[39;49m\u001b[38;5;124;43mcompression\u001b[39;49m\u001b[38;5;124;43m\"\u001b[39;49m\u001b[43m,\u001b[49m\u001b[43m \u001b[49m\u001b[38;5;28;43;01mNone\u001b[39;49;00m\u001b[43m)\u001b[49m\u001b[43m,\u001b[49m\n\u001b[0;32m   1710\u001b[0m \u001b[43m    \u001b[49m\u001b[43mmemory_map\u001b[49m\u001b[38;5;241;43m=\u001b[39;49m\u001b[38;5;28;43mself\u001b[39;49m\u001b[38;5;241;43m.\u001b[39;49m\u001b[43moptions\u001b[49m\u001b[38;5;241;43m.\u001b[39;49m\u001b[43mget\u001b[49m\u001b[43m(\u001b[49m\u001b[38;5;124;43m\"\u001b[39;49m\u001b[38;5;124;43mmemory_map\u001b[39;49m\u001b[38;5;124;43m\"\u001b[39;49m\u001b[43m,\u001b[49m\u001b[43m \u001b[49m\u001b[38;5;28;43;01mFalse\u001b[39;49;00m\u001b[43m)\u001b[49m\u001b[43m,\u001b[49m\n\u001b[0;32m   1711\u001b[0m \u001b[43m    \u001b[49m\u001b[43mis_text\u001b[49m\u001b[38;5;241;43m=\u001b[39;49m\u001b[43mis_text\u001b[49m\u001b[43m,\u001b[49m\n\u001b[0;32m   1712\u001b[0m \u001b[43m    \u001b[49m\u001b[43merrors\u001b[49m\u001b[38;5;241;43m=\u001b[39;49m\u001b[38;5;28;43mself\u001b[39;49m\u001b[38;5;241;43m.\u001b[39;49m\u001b[43moptions\u001b[49m\u001b[38;5;241;43m.\u001b[39;49m\u001b[43mget\u001b[49m\u001b[43m(\u001b[49m\u001b[38;5;124;43m\"\u001b[39;49m\u001b[38;5;124;43mencoding_errors\u001b[39;49m\u001b[38;5;124;43m\"\u001b[39;49m\u001b[43m,\u001b[49m\u001b[43m \u001b[49m\u001b[38;5;124;43m\"\u001b[39;49m\u001b[38;5;124;43mstrict\u001b[39;49m\u001b[38;5;124;43m\"\u001b[39;49m\u001b[43m)\u001b[49m\u001b[43m,\u001b[49m\n\u001b[0;32m   1713\u001b[0m \u001b[43m    \u001b[49m\u001b[43mstorage_options\u001b[49m\u001b[38;5;241;43m=\u001b[39;49m\u001b[38;5;28;43mself\u001b[39;49m\u001b[38;5;241;43m.\u001b[39;49m\u001b[43moptions\u001b[49m\u001b[38;5;241;43m.\u001b[39;49m\u001b[43mget\u001b[49m\u001b[43m(\u001b[49m\u001b[38;5;124;43m\"\u001b[39;49m\u001b[38;5;124;43mstorage_options\u001b[39;49m\u001b[38;5;124;43m\"\u001b[39;49m\u001b[43m,\u001b[49m\u001b[43m \u001b[49m\u001b[38;5;28;43;01mNone\u001b[39;49;00m\u001b[43m)\u001b[49m\u001b[43m,\u001b[49m\n\u001b[0;32m   1714\u001b[0m \u001b[43m\u001b[49m\u001b[43m)\u001b[49m\n\u001b[0;32m   1715\u001b[0m \u001b[38;5;28;01massert\u001b[39;00m \u001b[38;5;28mself\u001b[39m\u001b[38;5;241m.\u001b[39mhandles \u001b[38;5;129;01mis\u001b[39;00m \u001b[38;5;129;01mnot\u001b[39;00m \u001b[38;5;28;01mNone\u001b[39;00m\n",
      "File \u001b[1;32mc:\\Users\\milos\\miniforge3\\envs\\snuffelfiets\\Lib\\site-packages\\pandas\\io\\common.py:863\u001b[0m, in \u001b[0;36mget_handle\u001b[1;34m(path_or_buf, mode, encoding, compression, memory_map, is_text, errors, storage_options)\u001b[0m\n\u001b[0;32m    861\u001b[0m \u001b[38;5;28;01mif\u001b[39;00m ioargs\u001b[38;5;241m.\u001b[39mencoding \u001b[38;5;129;01mand\u001b[39;00m \u001b[38;5;124m\"\u001b[39m\u001b[38;5;124mb\u001b[39m\u001b[38;5;124m\"\u001b[39m \u001b[38;5;129;01mnot\u001b[39;00m \u001b[38;5;129;01min\u001b[39;00m ioargs\u001b[38;5;241m.\u001b[39mmode:\n\u001b[0;32m    862\u001b[0m     \u001b[38;5;66;03m# Encoding\u001b[39;00m\n\u001b[1;32m--> 863\u001b[0m     handle \u001b[38;5;241m=\u001b[39m \u001b[38;5;28;43mopen\u001b[39;49m\u001b[43m(\u001b[49m\n\u001b[0;32m    864\u001b[0m \u001b[43m        \u001b[49m\u001b[43mhandle\u001b[49m\u001b[43m,\u001b[49m\n\u001b[0;32m    865\u001b[0m \u001b[43m        \u001b[49m\u001b[43mioargs\u001b[49m\u001b[38;5;241;43m.\u001b[39;49m\u001b[43mmode\u001b[49m\u001b[43m,\u001b[49m\n\u001b[0;32m    866\u001b[0m \u001b[43m        \u001b[49m\u001b[43mencoding\u001b[49m\u001b[38;5;241;43m=\u001b[39;49m\u001b[43mioargs\u001b[49m\u001b[38;5;241;43m.\u001b[39;49m\u001b[43mencoding\u001b[49m\u001b[43m,\u001b[49m\n\u001b[0;32m    867\u001b[0m \u001b[43m        \u001b[49m\u001b[43merrors\u001b[49m\u001b[38;5;241;43m=\u001b[39;49m\u001b[43merrors\u001b[49m\u001b[43m,\u001b[49m\n\u001b[0;32m    868\u001b[0m \u001b[43m        \u001b[49m\u001b[43mnewline\u001b[49m\u001b[38;5;241;43m=\u001b[39;49m\u001b[38;5;124;43m\"\u001b[39;49m\u001b[38;5;124;43m\"\u001b[39;49m\u001b[43m,\u001b[49m\n\u001b[0;32m    869\u001b[0m \u001b[43m    \u001b[49m\u001b[43m)\u001b[49m\n\u001b[0;32m    870\u001b[0m \u001b[38;5;28;01melse\u001b[39;00m:\n\u001b[0;32m    871\u001b[0m     \u001b[38;5;66;03m# Binary mode\u001b[39;00m\n",
      "\u001b[1;31mFileNotFoundError\u001b[0m: [Errno 2] No such file or directory: 'C:\\\\Users\\\\milos\\\\Documents\\\\MCUdataclub\\\\Snuffelfiets_data_test\\\\rapportage\\\\api_gegevens_2024-04.csv'",
      "\nDuring handling of the above exception, another exception occurred:\n",
      "\u001b[1;31mKeyboardInterrupt\u001b[0m                         Traceback (most recent call last)",
      "Cell \u001b[1;32mIn[5], line 18\u001b[0m\n\u001b[0;32m     13\u001b[0m     df \u001b[38;5;241m=\u001b[39m pd\u001b[38;5;241m.\u001b[39mread_csv(p)\n\u001b[0;32m     15\u001b[0m \u001b[38;5;28;01mexcept\u001b[39;00m \u001b[38;5;167;01mFileNotFoundError\u001b[39;00m:\n\u001b[0;32m     16\u001b[0m \n\u001b[0;32m     17\u001b[0m     \u001b[38;5;66;03m# download the data if the file does not exist\u001b[39;00m\n\u001b[1;32m---> 18\u001b[0m     \u001b[43minlezen\u001b[49m\u001b[38;5;241;43m.\u001b[39;49m\u001b[43mmonthly_csv_dump\u001b[49m\u001b[43m(\u001b[49m\u001b[43mapi_key\u001b[49m\u001b[43m,\u001b[49m\u001b[43m \u001b[49m\u001b[43myear\u001b[49m\u001b[43m,\u001b[49m\u001b[43m \u001b[49m\u001b[43mmonth\u001b[49m\u001b[43m,\u001b[49m\u001b[43m \u001b[49m\u001b[43mdata_directory\u001b[49m\u001b[43m,\u001b[49m\u001b[43m \u001b[49m\u001b[43mprefix\u001b[49m\u001b[43m)\u001b[49m\n\u001b[0;32m     20\u001b[0m     df \u001b[38;5;241m=\u001b[39m pd\u001b[38;5;241m.\u001b[39mread_csv(p)\n\u001b[0;32m     22\u001b[0m dfs\u001b[38;5;241m.\u001b[39mappend(df)\n",
      "File \u001b[1;32mc:\\Users\\milos\\Documents\\MCUdataclub\\Snuffelfiets\\snuffelfiets\\inlezen.py:169\u001b[0m, in \u001b[0;36mmonthly_csv_dump\u001b[1;34m(api_key, year, month, data_directory, prefix, preproc)\u001b[0m\n\u001b[0;32m    166\u001b[0m start_datum \u001b[38;5;241m=\u001b[39m \u001b[38;5;124mf\u001b[39m\u001b[38;5;124m'\u001b[39m\u001b[38;5;132;01m{\u001b[39;00myear\u001b[38;5;132;01m}\u001b[39;00m\u001b[38;5;124m-\u001b[39m\u001b[38;5;132;01m{\u001b[39;00mmonth\u001b[38;5;132;01m:\u001b[39;00m\u001b[38;5;124m02d\u001b[39m\u001b[38;5;132;01m}\u001b[39;00m\u001b[38;5;124m-01\u001b[39m\u001b[38;5;124m'\u001b[39m\n\u001b[0;32m    167\u001b[0m stop_datum \u001b[38;5;241m=\u001b[39m \u001b[38;5;124mf\u001b[39m\u001b[38;5;124m'\u001b[39m\u001b[38;5;132;01m{\u001b[39;00myear\u001b[38;5;241m+\u001b[39m\u001b[38;5;241m1\u001b[39m\u001b[38;5;132;01m}\u001b[39;00m\u001b[38;5;124m-01-01\u001b[39m\u001b[38;5;124m'\u001b[39m \u001b[38;5;28;01mif\u001b[39;00m month\u001b[38;5;241m==\u001b[39m\u001b[38;5;241m12\u001b[39m \u001b[38;5;28;01melse\u001b[39;00m \u001b[38;5;124mf\u001b[39m\u001b[38;5;124m'\u001b[39m\u001b[38;5;132;01m{\u001b[39;00myear\u001b[38;5;132;01m}\u001b[39;00m\u001b[38;5;124m-\u001b[39m\u001b[38;5;132;01m{\u001b[39;00mmonth\u001b[38;5;241m+\u001b[39m\u001b[38;5;241m1\u001b[39m\u001b[38;5;132;01m:\u001b[39;00m\u001b[38;5;124m02d\u001b[39m\u001b[38;5;132;01m}\u001b[39;00m\u001b[38;5;124m-01\u001b[39m\u001b[38;5;124m'\u001b[39m\n\u001b[1;32m--> 169\u001b[0m df \u001b[38;5;241m=\u001b[39m \u001b[43mcall_api\u001b[49m\u001b[43m(\u001b[49m\u001b[43mapi_key\u001b[49m\u001b[43m,\u001b[49m\u001b[43m \u001b[49m\u001b[43mstart_datum\u001b[49m\u001b[43m,\u001b[49m\u001b[43m \u001b[49m\u001b[43mstop_datum\u001b[49m\u001b[43m)\u001b[49m\n\u001b[0;32m    170\u001b[0m df \u001b[38;5;241m=\u001b[39m opschonen\u001b[38;5;241m.\u001b[39mcorrect_units(df)\n\u001b[0;32m    172\u001b[0m filename \u001b[38;5;241m=\u001b[39m \u001b[38;5;124mf\u001b[39m\u001b[38;5;124m'\u001b[39m\u001b[38;5;132;01m{\u001b[39;00mprefix\u001b[38;5;132;01m}\u001b[39;00m\u001b[38;5;124m_\u001b[39m\u001b[38;5;132;01m{\u001b[39;00myear\u001b[38;5;132;01m}\u001b[39;00m\u001b[38;5;124m-\u001b[39m\u001b[38;5;132;01m{\u001b[39;00mmonth\u001b[38;5;132;01m:\u001b[39;00m\u001b[38;5;124m02d\u001b[39m\u001b[38;5;132;01m}\u001b[39;00m\u001b[38;5;124m.csv\u001b[39m\u001b[38;5;124m'\u001b[39m\n",
      "File \u001b[1;32mc:\\Users\\milos\\Documents\\MCUdataclub\\Snuffelfiets\\snuffelfiets\\inlezen.py:126\u001b[0m, in \u001b[0;36mcall_api\u001b[1;34m(api_key, start_datum, stop_datum, columns, url, datastore, resource_id, sql_conditions, sql_parameters)\u001b[0m\n\u001b[0;32m    122\u001b[0m \u001b[38;5;28mprint\u001b[39m(\u001b[38;5;124mf\u001b[39m\u001b[38;5;124m'\u001b[39m\u001b[38;5;124msql statement: \u001b[39m\u001b[38;5;132;01m{\u001b[39;00mparams[\u001b[38;5;124m\"\u001b[39m\u001b[38;5;124msql\u001b[39m\u001b[38;5;124m\"\u001b[39m]\u001b[38;5;132;01m}\u001b[39;00m\u001b[38;5;124m'\u001b[39m)\n\u001b[0;32m    124\u001b[0m start_time \u001b[38;5;241m=\u001b[39m time\u001b[38;5;241m.\u001b[39mtime()\n\u001b[1;32m--> 126\u001b[0m records \u001b[38;5;241m=\u001b[39m \u001b[43mget_records\u001b[49m\u001b[43m(\u001b[49m\u001b[43murl\u001b[49m\u001b[43m,\u001b[49m\u001b[43m \u001b[49m\u001b[43mheaders\u001b[49m\u001b[43m,\u001b[49m\u001b[43m \u001b[49m\u001b[43mparams\u001b[49m\u001b[43m,\u001b[49m\u001b[43m \u001b[49m\u001b[43msql_parameters\u001b[49m\u001b[43m[\u001b[49m\u001b[38;5;124;43m'\u001b[39;49m\u001b[38;5;124;43mlimit\u001b[39;49m\u001b[38;5;124;43m'\u001b[39;49m\u001b[43m]\u001b[49m\u001b[43m)\u001b[49m\n\u001b[0;32m    128\u001b[0m df \u001b[38;5;241m=\u001b[39m pd\u001b[38;5;241m.\u001b[39mDataFrame(records)\n\u001b[0;32m    129\u001b[0m df \u001b[38;5;241m=\u001b[39m drop_columns(df)\n",
      "File \u001b[1;32mc:\\Users\\milos\\Documents\\MCUdataclub\\Snuffelfiets\\snuffelfiets\\inlezen.py:57\u001b[0m, in \u001b[0;36mget_records\u001b[1;34m(url, headers, params, limit, offset)\u001b[0m\n\u001b[0;32m     55\u001b[0m \u001b[38;5;28;01mwhile\u001b[39;00m truncated:\n\u001b[0;32m     56\u001b[0m     params[\u001b[38;5;124m\"\u001b[39m\u001b[38;5;124msql\u001b[39m\u001b[38;5;124m\"\u001b[39m] \u001b[38;5;241m=\u001b[39m \u001b[38;5;124mf\u001b[39m\u001b[38;5;124m'\u001b[39m\u001b[38;5;132;01m{\u001b[39;00msql_base\u001b[38;5;132;01m}\u001b[39;00m\u001b[38;5;124m OFFSET \u001b[39m\u001b[38;5;132;01m{\u001b[39;00moffset\u001b[38;5;132;01m}\u001b[39;00m\u001b[38;5;124m'\u001b[39m\n\u001b[1;32m---> 57\u001b[0m     chunk \u001b[38;5;241m=\u001b[39m \u001b[43m_get_chunk\u001b[49m\u001b[43m(\u001b[49m\u001b[43murl\u001b[49m\u001b[43m,\u001b[49m\u001b[43m \u001b[49m\u001b[43mheaders\u001b[49m\u001b[43m,\u001b[49m\u001b[43m \u001b[49m\u001b[43mparams\u001b[49m\u001b[43m)\u001b[49m\n\u001b[0;32m     58\u001b[0m     truncated \u001b[38;5;241m=\u001b[39m \u001b[38;5;28mlen\u001b[39m(chunk) \u001b[38;5;241m==\u001b[39m limit\n\u001b[0;32m     59\u001b[0m     records \u001b[38;5;241m+\u001b[39m\u001b[38;5;241m=\u001b[39m chunk\n",
      "File \u001b[1;32mc:\\Users\\milos\\Documents\\MCUdataclub\\Snuffelfiets\\snuffelfiets\\inlezen.py:35\u001b[0m, in \u001b[0;36m_get_chunk\u001b[1;34m(url, headers, params)\u001b[0m\n\u001b[0;32m     32\u001b[0m \u001b[38;5;28;01mdef\u001b[39;00m \u001b[38;5;21m_get_chunk\u001b[39m(url, headers, params):\n\u001b[0;32m     33\u001b[0m \u001b[38;5;250m    \u001b[39m\u001b[38;5;124;03m\"\"\"Get a single chunk of (limit=32000) observations.\"\"\"\u001b[39;00m\n\u001b[1;32m---> 35\u001b[0m     response \u001b[38;5;241m=\u001b[39m \u001b[43mrequests\u001b[49m\u001b[38;5;241;43m.\u001b[39;49m\u001b[43mget\u001b[49m\u001b[43m(\u001b[49m\u001b[43murl\u001b[49m\u001b[43m,\u001b[49m\u001b[43m \u001b[49m\u001b[43mheaders\u001b[49m\u001b[38;5;241;43m=\u001b[39;49m\u001b[43mheaders\u001b[49m\u001b[43m,\u001b[49m\u001b[43m \u001b[49m\u001b[43mparams\u001b[49m\u001b[38;5;241;43m=\u001b[39;49m\u001b[43mparams\u001b[49m\u001b[43m)\u001b[49m\n\u001b[0;32m     36\u001b[0m     \u001b[38;5;28;01mif\u001b[39;00m response\u001b[38;5;241m.\u001b[39mstatus_code \u001b[38;5;241m!=\u001b[39m \u001b[38;5;241m200\u001b[39m:\n\u001b[0;32m     37\u001b[0m         msg \u001b[38;5;241m=\u001b[39m \u001b[38;5;124mf\u001b[39m\u001b[38;5;124m'\u001b[39m\u001b[38;5;124mapi-call mislukt:\u001b[39m\u001b[38;5;124m'\u001b[39m\n",
      "File \u001b[1;32mc:\\Users\\milos\\miniforge3\\envs\\snuffelfiets\\Lib\\site-packages\\requests\\api.py:73\u001b[0m, in \u001b[0;36mget\u001b[1;34m(url, params, **kwargs)\u001b[0m\n\u001b[0;32m     62\u001b[0m \u001b[38;5;28;01mdef\u001b[39;00m \u001b[38;5;21mget\u001b[39m(url, params\u001b[38;5;241m=\u001b[39m\u001b[38;5;28;01mNone\u001b[39;00m, \u001b[38;5;241m*\u001b[39m\u001b[38;5;241m*\u001b[39mkwargs):\n\u001b[0;32m     63\u001b[0m \u001b[38;5;250m    \u001b[39m\u001b[38;5;124mr\u001b[39m\u001b[38;5;124;03m\"\"\"Sends a GET request.\u001b[39;00m\n\u001b[0;32m     64\u001b[0m \n\u001b[0;32m     65\u001b[0m \u001b[38;5;124;03m    :param url: URL for the new :class:`Request` object.\u001b[39;00m\n\u001b[1;32m   (...)\u001b[0m\n\u001b[0;32m     70\u001b[0m \u001b[38;5;124;03m    :rtype: requests.Response\u001b[39;00m\n\u001b[0;32m     71\u001b[0m \u001b[38;5;124;03m    \"\"\"\u001b[39;00m\n\u001b[1;32m---> 73\u001b[0m     \u001b[38;5;28;01mreturn\u001b[39;00m \u001b[43mrequest\u001b[49m\u001b[43m(\u001b[49m\u001b[38;5;124;43m\"\u001b[39;49m\u001b[38;5;124;43mget\u001b[39;49m\u001b[38;5;124;43m\"\u001b[39;49m\u001b[43m,\u001b[49m\u001b[43m \u001b[49m\u001b[43murl\u001b[49m\u001b[43m,\u001b[49m\u001b[43m \u001b[49m\u001b[43mparams\u001b[49m\u001b[38;5;241;43m=\u001b[39;49m\u001b[43mparams\u001b[49m\u001b[43m,\u001b[49m\u001b[43m \u001b[49m\u001b[38;5;241;43m*\u001b[39;49m\u001b[38;5;241;43m*\u001b[39;49m\u001b[43mkwargs\u001b[49m\u001b[43m)\u001b[49m\n",
      "File \u001b[1;32mc:\\Users\\milos\\miniforge3\\envs\\snuffelfiets\\Lib\\site-packages\\requests\\api.py:59\u001b[0m, in \u001b[0;36mrequest\u001b[1;34m(method, url, **kwargs)\u001b[0m\n\u001b[0;32m     55\u001b[0m \u001b[38;5;66;03m# By using the 'with' statement we are sure the session is closed, thus we\u001b[39;00m\n\u001b[0;32m     56\u001b[0m \u001b[38;5;66;03m# avoid leaving sockets open which can trigger a ResourceWarning in some\u001b[39;00m\n\u001b[0;32m     57\u001b[0m \u001b[38;5;66;03m# cases, and look like a memory leak in others.\u001b[39;00m\n\u001b[0;32m     58\u001b[0m \u001b[38;5;28;01mwith\u001b[39;00m sessions\u001b[38;5;241m.\u001b[39mSession() \u001b[38;5;28;01mas\u001b[39;00m session:\n\u001b[1;32m---> 59\u001b[0m     \u001b[38;5;28;01mreturn\u001b[39;00m \u001b[43msession\u001b[49m\u001b[38;5;241;43m.\u001b[39;49m\u001b[43mrequest\u001b[49m\u001b[43m(\u001b[49m\u001b[43mmethod\u001b[49m\u001b[38;5;241;43m=\u001b[39;49m\u001b[43mmethod\u001b[49m\u001b[43m,\u001b[49m\u001b[43m \u001b[49m\u001b[43murl\u001b[49m\u001b[38;5;241;43m=\u001b[39;49m\u001b[43murl\u001b[49m\u001b[43m,\u001b[49m\u001b[43m \u001b[49m\u001b[38;5;241;43m*\u001b[39;49m\u001b[38;5;241;43m*\u001b[39;49m\u001b[43mkwargs\u001b[49m\u001b[43m)\u001b[49m\n",
      "File \u001b[1;32mc:\\Users\\milos\\miniforge3\\envs\\snuffelfiets\\Lib\\site-packages\\requests\\sessions.py:589\u001b[0m, in \u001b[0;36mSession.request\u001b[1;34m(self, method, url, params, data, headers, cookies, files, auth, timeout, allow_redirects, proxies, hooks, stream, verify, cert, json)\u001b[0m\n\u001b[0;32m    584\u001b[0m send_kwargs \u001b[38;5;241m=\u001b[39m {\n\u001b[0;32m    585\u001b[0m     \u001b[38;5;124m\"\u001b[39m\u001b[38;5;124mtimeout\u001b[39m\u001b[38;5;124m\"\u001b[39m: timeout,\n\u001b[0;32m    586\u001b[0m     \u001b[38;5;124m\"\u001b[39m\u001b[38;5;124mallow_redirects\u001b[39m\u001b[38;5;124m\"\u001b[39m: allow_redirects,\n\u001b[0;32m    587\u001b[0m }\n\u001b[0;32m    588\u001b[0m send_kwargs\u001b[38;5;241m.\u001b[39mupdate(settings)\n\u001b[1;32m--> 589\u001b[0m resp \u001b[38;5;241m=\u001b[39m \u001b[38;5;28;43mself\u001b[39;49m\u001b[38;5;241;43m.\u001b[39;49m\u001b[43msend\u001b[49m\u001b[43m(\u001b[49m\u001b[43mprep\u001b[49m\u001b[43m,\u001b[49m\u001b[43m \u001b[49m\u001b[38;5;241;43m*\u001b[39;49m\u001b[38;5;241;43m*\u001b[39;49m\u001b[43msend_kwargs\u001b[49m\u001b[43m)\u001b[49m\n\u001b[0;32m    591\u001b[0m \u001b[38;5;28;01mreturn\u001b[39;00m resp\n",
      "File \u001b[1;32mc:\\Users\\milos\\miniforge3\\envs\\snuffelfiets\\Lib\\site-packages\\requests\\sessions.py:747\u001b[0m, in \u001b[0;36mSession.send\u001b[1;34m(self, request, **kwargs)\u001b[0m\n\u001b[0;32m    744\u001b[0m         \u001b[38;5;28;01mpass\u001b[39;00m\n\u001b[0;32m    746\u001b[0m \u001b[38;5;28;01mif\u001b[39;00m \u001b[38;5;129;01mnot\u001b[39;00m stream:\n\u001b[1;32m--> 747\u001b[0m     \u001b[43mr\u001b[49m\u001b[38;5;241;43m.\u001b[39;49m\u001b[43mcontent\u001b[49m\n\u001b[0;32m    749\u001b[0m \u001b[38;5;28;01mreturn\u001b[39;00m r\n",
      "File \u001b[1;32mc:\\Users\\milos\\miniforge3\\envs\\snuffelfiets\\Lib\\site-packages\\requests\\models.py:899\u001b[0m, in \u001b[0;36mResponse.content\u001b[1;34m(self)\u001b[0m\n\u001b[0;32m    897\u001b[0m         \u001b[38;5;28mself\u001b[39m\u001b[38;5;241m.\u001b[39m_content \u001b[38;5;241m=\u001b[39m \u001b[38;5;28;01mNone\u001b[39;00m\n\u001b[0;32m    898\u001b[0m     \u001b[38;5;28;01melse\u001b[39;00m:\n\u001b[1;32m--> 899\u001b[0m         \u001b[38;5;28mself\u001b[39m\u001b[38;5;241m.\u001b[39m_content \u001b[38;5;241m=\u001b[39m \u001b[38;5;124mb\u001b[39m\u001b[38;5;124m\"\u001b[39m\u001b[38;5;124m\"\u001b[39m\u001b[38;5;241m.\u001b[39mjoin(\u001b[38;5;28mself\u001b[39m\u001b[38;5;241m.\u001b[39miter_content(CONTENT_CHUNK_SIZE)) \u001b[38;5;129;01mor\u001b[39;00m \u001b[38;5;124mb\u001b[39m\u001b[38;5;124m\"\u001b[39m\u001b[38;5;124m\"\u001b[39m\n\u001b[0;32m    901\u001b[0m \u001b[38;5;28mself\u001b[39m\u001b[38;5;241m.\u001b[39m_content_consumed \u001b[38;5;241m=\u001b[39m \u001b[38;5;28;01mTrue\u001b[39;00m\n\u001b[0;32m    902\u001b[0m \u001b[38;5;66;03m# don't need to release the connection; that's been handled by urllib3\u001b[39;00m\n\u001b[0;32m    903\u001b[0m \u001b[38;5;66;03m# since we exhausted the data.\u001b[39;00m\n",
      "File \u001b[1;32mc:\\Users\\milos\\miniforge3\\envs\\snuffelfiets\\Lib\\site-packages\\requests\\models.py:816\u001b[0m, in \u001b[0;36mResponse.iter_content.<locals>.generate\u001b[1;34m()\u001b[0m\n\u001b[0;32m    814\u001b[0m \u001b[38;5;28;01mif\u001b[39;00m \u001b[38;5;28mhasattr\u001b[39m(\u001b[38;5;28mself\u001b[39m\u001b[38;5;241m.\u001b[39mraw, \u001b[38;5;124m\"\u001b[39m\u001b[38;5;124mstream\u001b[39m\u001b[38;5;124m\"\u001b[39m):\n\u001b[0;32m    815\u001b[0m     \u001b[38;5;28;01mtry\u001b[39;00m:\n\u001b[1;32m--> 816\u001b[0m         \u001b[38;5;28;01myield from\u001b[39;00m \u001b[38;5;28mself\u001b[39m\u001b[38;5;241m.\u001b[39mraw\u001b[38;5;241m.\u001b[39mstream(chunk_size, decode_content\u001b[38;5;241m=\u001b[39m\u001b[38;5;28;01mTrue\u001b[39;00m)\n\u001b[0;32m    817\u001b[0m     \u001b[38;5;28;01mexcept\u001b[39;00m ProtocolError \u001b[38;5;28;01mas\u001b[39;00m e:\n\u001b[0;32m    818\u001b[0m         \u001b[38;5;28;01mraise\u001b[39;00m ChunkedEncodingError(e)\n",
      "File \u001b[1;32mc:\\Users\\milos\\miniforge3\\envs\\snuffelfiets\\Lib\\site-packages\\urllib3\\response.py:936\u001b[0m, in \u001b[0;36mHTTPResponse.stream\u001b[1;34m(self, amt, decode_content)\u001b[0m\n\u001b[0;32m    934\u001b[0m \u001b[38;5;28;01melse\u001b[39;00m:\n\u001b[0;32m    935\u001b[0m     \u001b[38;5;28;01mwhile\u001b[39;00m \u001b[38;5;129;01mnot\u001b[39;00m is_fp_closed(\u001b[38;5;28mself\u001b[39m\u001b[38;5;241m.\u001b[39m_fp) \u001b[38;5;129;01mor\u001b[39;00m \u001b[38;5;28mlen\u001b[39m(\u001b[38;5;28mself\u001b[39m\u001b[38;5;241m.\u001b[39m_decoded_buffer) \u001b[38;5;241m>\u001b[39m \u001b[38;5;241m0\u001b[39m:\n\u001b[1;32m--> 936\u001b[0m         data \u001b[38;5;241m=\u001b[39m \u001b[38;5;28;43mself\u001b[39;49m\u001b[38;5;241;43m.\u001b[39;49m\u001b[43mread\u001b[49m\u001b[43m(\u001b[49m\u001b[43mamt\u001b[49m\u001b[38;5;241;43m=\u001b[39;49m\u001b[43mamt\u001b[49m\u001b[43m,\u001b[49m\u001b[43m \u001b[49m\u001b[43mdecode_content\u001b[49m\u001b[38;5;241;43m=\u001b[39;49m\u001b[43mdecode_content\u001b[49m\u001b[43m)\u001b[49m\n\u001b[0;32m    938\u001b[0m         \u001b[38;5;28;01mif\u001b[39;00m data:\n\u001b[0;32m    939\u001b[0m             \u001b[38;5;28;01myield\u001b[39;00m data\n",
      "File \u001b[1;32mc:\\Users\\milos\\miniforge3\\envs\\snuffelfiets\\Lib\\site-packages\\urllib3\\response.py:879\u001b[0m, in \u001b[0;36mHTTPResponse.read\u001b[1;34m(self, amt, decode_content, cache_content)\u001b[0m\n\u001b[0;32m    876\u001b[0m     \u001b[38;5;28;01mif\u001b[39;00m \u001b[38;5;28mlen\u001b[39m(\u001b[38;5;28mself\u001b[39m\u001b[38;5;241m.\u001b[39m_decoded_buffer) \u001b[38;5;241m>\u001b[39m\u001b[38;5;241m=\u001b[39m amt:\n\u001b[0;32m    877\u001b[0m         \u001b[38;5;28;01mreturn\u001b[39;00m \u001b[38;5;28mself\u001b[39m\u001b[38;5;241m.\u001b[39m_decoded_buffer\u001b[38;5;241m.\u001b[39mget(amt)\n\u001b[1;32m--> 879\u001b[0m data \u001b[38;5;241m=\u001b[39m \u001b[38;5;28;43mself\u001b[39;49m\u001b[38;5;241;43m.\u001b[39;49m\u001b[43m_raw_read\u001b[49m\u001b[43m(\u001b[49m\u001b[43mamt\u001b[49m\u001b[43m)\u001b[49m\n\u001b[0;32m    881\u001b[0m flush_decoder \u001b[38;5;241m=\u001b[39m amt \u001b[38;5;129;01mis\u001b[39;00m \u001b[38;5;28;01mNone\u001b[39;00m \u001b[38;5;129;01mor\u001b[39;00m (amt \u001b[38;5;241m!=\u001b[39m \u001b[38;5;241m0\u001b[39m \u001b[38;5;129;01mand\u001b[39;00m \u001b[38;5;129;01mnot\u001b[39;00m data)\n\u001b[0;32m    883\u001b[0m \u001b[38;5;28;01mif\u001b[39;00m \u001b[38;5;129;01mnot\u001b[39;00m data \u001b[38;5;129;01mand\u001b[39;00m \u001b[38;5;28mlen\u001b[39m(\u001b[38;5;28mself\u001b[39m\u001b[38;5;241m.\u001b[39m_decoded_buffer) \u001b[38;5;241m==\u001b[39m \u001b[38;5;241m0\u001b[39m:\n",
      "File \u001b[1;32mc:\\Users\\milos\\miniforge3\\envs\\snuffelfiets\\Lib\\site-packages\\urllib3\\response.py:814\u001b[0m, in \u001b[0;36mHTTPResponse._raw_read\u001b[1;34m(self, amt)\u001b[0m\n\u001b[0;32m    811\u001b[0m fp_closed \u001b[38;5;241m=\u001b[39m \u001b[38;5;28mgetattr\u001b[39m(\u001b[38;5;28mself\u001b[39m\u001b[38;5;241m.\u001b[39m_fp, \u001b[38;5;124m\"\u001b[39m\u001b[38;5;124mclosed\u001b[39m\u001b[38;5;124m\"\u001b[39m, \u001b[38;5;28;01mFalse\u001b[39;00m)\n\u001b[0;32m    813\u001b[0m \u001b[38;5;28;01mwith\u001b[39;00m \u001b[38;5;28mself\u001b[39m\u001b[38;5;241m.\u001b[39m_error_catcher():\n\u001b[1;32m--> 814\u001b[0m     data \u001b[38;5;241m=\u001b[39m \u001b[38;5;28;43mself\u001b[39;49m\u001b[38;5;241;43m.\u001b[39;49m\u001b[43m_fp_read\u001b[49m\u001b[43m(\u001b[49m\u001b[43mamt\u001b[49m\u001b[43m)\u001b[49m \u001b[38;5;28;01mif\u001b[39;00m \u001b[38;5;129;01mnot\u001b[39;00m fp_closed \u001b[38;5;28;01melse\u001b[39;00m \u001b[38;5;124mb\u001b[39m\u001b[38;5;124m\"\u001b[39m\u001b[38;5;124m\"\u001b[39m\n\u001b[0;32m    815\u001b[0m     \u001b[38;5;28;01mif\u001b[39;00m amt \u001b[38;5;129;01mis\u001b[39;00m \u001b[38;5;129;01mnot\u001b[39;00m \u001b[38;5;28;01mNone\u001b[39;00m \u001b[38;5;129;01mand\u001b[39;00m amt \u001b[38;5;241m!=\u001b[39m \u001b[38;5;241m0\u001b[39m \u001b[38;5;129;01mand\u001b[39;00m \u001b[38;5;129;01mnot\u001b[39;00m data:\n\u001b[0;32m    816\u001b[0m         \u001b[38;5;66;03m# Platform-specific: Buggy versions of Python.\u001b[39;00m\n\u001b[0;32m    817\u001b[0m         \u001b[38;5;66;03m# Close the connection when no data is returned\u001b[39;00m\n\u001b[1;32m   (...)\u001b[0m\n\u001b[0;32m    822\u001b[0m         \u001b[38;5;66;03m# not properly close the connection in all cases. There is\u001b[39;00m\n\u001b[0;32m    823\u001b[0m         \u001b[38;5;66;03m# no harm in redundantly calling close.\u001b[39;00m\n\u001b[0;32m    824\u001b[0m         \u001b[38;5;28mself\u001b[39m\u001b[38;5;241m.\u001b[39m_fp\u001b[38;5;241m.\u001b[39mclose()\n",
      "File \u001b[1;32mc:\\Users\\milos\\miniforge3\\envs\\snuffelfiets\\Lib\\site-packages\\urllib3\\response.py:799\u001b[0m, in \u001b[0;36mHTTPResponse._fp_read\u001b[1;34m(self, amt)\u001b[0m\n\u001b[0;32m    796\u001b[0m     \u001b[38;5;28;01mreturn\u001b[39;00m buffer\u001b[38;5;241m.\u001b[39mgetvalue()\n\u001b[0;32m    797\u001b[0m \u001b[38;5;28;01melse\u001b[39;00m:\n\u001b[0;32m    798\u001b[0m     \u001b[38;5;66;03m# StringIO doesn't like amt=None\u001b[39;00m\n\u001b[1;32m--> 799\u001b[0m     \u001b[38;5;28;01mreturn\u001b[39;00m \u001b[38;5;28;43mself\u001b[39;49m\u001b[38;5;241;43m.\u001b[39;49m\u001b[43m_fp\u001b[49m\u001b[38;5;241;43m.\u001b[39;49m\u001b[43mread\u001b[49m\u001b[43m(\u001b[49m\u001b[43mamt\u001b[49m\u001b[43m)\u001b[49m \u001b[38;5;28;01mif\u001b[39;00m amt \u001b[38;5;129;01mis\u001b[39;00m \u001b[38;5;129;01mnot\u001b[39;00m \u001b[38;5;28;01mNone\u001b[39;00m \u001b[38;5;28;01melse\u001b[39;00m \u001b[38;5;28mself\u001b[39m\u001b[38;5;241m.\u001b[39m_fp\u001b[38;5;241m.\u001b[39mread()\n",
      "File \u001b[1;32mc:\\Users\\milos\\miniforge3\\envs\\snuffelfiets\\Lib\\http\\client.py:466\u001b[0m, in \u001b[0;36mHTTPResponse.read\u001b[1;34m(self, amt)\u001b[0m\n\u001b[0;32m    463\u001b[0m \u001b[38;5;28;01mif\u001b[39;00m \u001b[38;5;28mself\u001b[39m\u001b[38;5;241m.\u001b[39mlength \u001b[38;5;129;01mis\u001b[39;00m \u001b[38;5;129;01mnot\u001b[39;00m \u001b[38;5;28;01mNone\u001b[39;00m \u001b[38;5;129;01mand\u001b[39;00m amt \u001b[38;5;241m>\u001b[39m \u001b[38;5;28mself\u001b[39m\u001b[38;5;241m.\u001b[39mlength:\n\u001b[0;32m    464\u001b[0m     \u001b[38;5;66;03m# clip the read to the \"end of response\"\u001b[39;00m\n\u001b[0;32m    465\u001b[0m     amt \u001b[38;5;241m=\u001b[39m \u001b[38;5;28mself\u001b[39m\u001b[38;5;241m.\u001b[39mlength\n\u001b[1;32m--> 466\u001b[0m s \u001b[38;5;241m=\u001b[39m \u001b[38;5;28mself\u001b[39m\u001b[38;5;241m.\u001b[39mfp\u001b[38;5;241m.\u001b[39mread(amt)\n\u001b[0;32m    467\u001b[0m \u001b[38;5;28;01mif\u001b[39;00m \u001b[38;5;129;01mnot\u001b[39;00m s \u001b[38;5;129;01mand\u001b[39;00m amt:\n\u001b[0;32m    468\u001b[0m     \u001b[38;5;66;03m# Ideally, we would raise IncompleteRead if the content-length\u001b[39;00m\n\u001b[0;32m    469\u001b[0m     \u001b[38;5;66;03m# wasn't satisfied, but it might break compatibility.\u001b[39;00m\n\u001b[0;32m    470\u001b[0m     \u001b[38;5;28mself\u001b[39m\u001b[38;5;241m.\u001b[39m_close_conn()\n",
      "File \u001b[1;32mc:\\Users\\milos\\miniforge3\\envs\\snuffelfiets\\Lib\\socket.py:706\u001b[0m, in \u001b[0;36mSocketIO.readinto\u001b[1;34m(self, b)\u001b[0m\n\u001b[0;32m    704\u001b[0m \u001b[38;5;28;01mwhile\u001b[39;00m \u001b[38;5;28;01mTrue\u001b[39;00m:\n\u001b[0;32m    705\u001b[0m     \u001b[38;5;28;01mtry\u001b[39;00m:\n\u001b[1;32m--> 706\u001b[0m         \u001b[38;5;28;01mreturn\u001b[39;00m \u001b[38;5;28;43mself\u001b[39;49m\u001b[38;5;241;43m.\u001b[39;49m\u001b[43m_sock\u001b[49m\u001b[38;5;241;43m.\u001b[39;49m\u001b[43mrecv_into\u001b[49m\u001b[43m(\u001b[49m\u001b[43mb\u001b[49m\u001b[43m)\u001b[49m\n\u001b[0;32m    707\u001b[0m     \u001b[38;5;28;01mexcept\u001b[39;00m timeout:\n\u001b[0;32m    708\u001b[0m         \u001b[38;5;28mself\u001b[39m\u001b[38;5;241m.\u001b[39m_timeout_occurred \u001b[38;5;241m=\u001b[39m \u001b[38;5;28;01mTrue\u001b[39;00m\n",
      "File \u001b[1;32mc:\\Users\\milos\\miniforge3\\envs\\snuffelfiets\\Lib\\ssl.py:1311\u001b[0m, in \u001b[0;36mSSLSocket.recv_into\u001b[1;34m(self, buffer, nbytes, flags)\u001b[0m\n\u001b[0;32m   1307\u001b[0m     \u001b[38;5;28;01mif\u001b[39;00m flags \u001b[38;5;241m!=\u001b[39m \u001b[38;5;241m0\u001b[39m:\n\u001b[0;32m   1308\u001b[0m         \u001b[38;5;28;01mraise\u001b[39;00m \u001b[38;5;167;01mValueError\u001b[39;00m(\n\u001b[0;32m   1309\u001b[0m           \u001b[38;5;124m\"\u001b[39m\u001b[38;5;124mnon-zero flags not allowed in calls to recv_into() on \u001b[39m\u001b[38;5;132;01m%s\u001b[39;00m\u001b[38;5;124m\"\u001b[39m \u001b[38;5;241m%\u001b[39m\n\u001b[0;32m   1310\u001b[0m           \u001b[38;5;28mself\u001b[39m\u001b[38;5;241m.\u001b[39m\u001b[38;5;18m__class__\u001b[39m)\n\u001b[1;32m-> 1311\u001b[0m     \u001b[38;5;28;01mreturn\u001b[39;00m \u001b[38;5;28;43mself\u001b[39;49m\u001b[38;5;241;43m.\u001b[39;49m\u001b[43mread\u001b[49m\u001b[43m(\u001b[49m\u001b[43mnbytes\u001b[49m\u001b[43m,\u001b[49m\u001b[43m \u001b[49m\u001b[43mbuffer\u001b[49m\u001b[43m)\u001b[49m\n\u001b[0;32m   1312\u001b[0m \u001b[38;5;28;01melse\u001b[39;00m:\n\u001b[0;32m   1313\u001b[0m     \u001b[38;5;28;01mreturn\u001b[39;00m \u001b[38;5;28msuper\u001b[39m()\u001b[38;5;241m.\u001b[39mrecv_into(buffer, nbytes, flags)\n",
      "File \u001b[1;32mc:\\Users\\milos\\miniforge3\\envs\\snuffelfiets\\Lib\\ssl.py:1167\u001b[0m, in \u001b[0;36mSSLSocket.read\u001b[1;34m(self, len, buffer)\u001b[0m\n\u001b[0;32m   1165\u001b[0m \u001b[38;5;28;01mtry\u001b[39;00m:\n\u001b[0;32m   1166\u001b[0m     \u001b[38;5;28;01mif\u001b[39;00m buffer \u001b[38;5;129;01mis\u001b[39;00m \u001b[38;5;129;01mnot\u001b[39;00m \u001b[38;5;28;01mNone\u001b[39;00m:\n\u001b[1;32m-> 1167\u001b[0m         \u001b[38;5;28;01mreturn\u001b[39;00m \u001b[38;5;28;43mself\u001b[39;49m\u001b[38;5;241;43m.\u001b[39;49m\u001b[43m_sslobj\u001b[49m\u001b[38;5;241;43m.\u001b[39;49m\u001b[43mread\u001b[49m\u001b[43m(\u001b[49m\u001b[38;5;28;43mlen\u001b[39;49m\u001b[43m,\u001b[49m\u001b[43m \u001b[49m\u001b[43mbuffer\u001b[49m\u001b[43m)\u001b[49m\n\u001b[0;32m   1168\u001b[0m     \u001b[38;5;28;01melse\u001b[39;00m:\n\u001b[0;32m   1169\u001b[0m         \u001b[38;5;28;01mreturn\u001b[39;00m \u001b[38;5;28mself\u001b[39m\u001b[38;5;241m.\u001b[39m_sslobj\u001b[38;5;241m.\u001b[39mread(\u001b[38;5;28mlen\u001b[39m)\n",
      "\u001b[1;31mKeyboardInterrupt\u001b[0m: "
     ]
    }
   ],
   "source": [
    "# Read the data for the selected period (in monthly chunks).\n",
    "\n",
    "dfs = []\n",
    "\n",
    "for m in months:\n",
    "\n",
    "    filename = f'{prefix}_{year}-{m:02d}.csv'\n",
    "    p = Path(data_directory, filename)\n",
    "\n",
    "    try:\n",
    "\n",
    "        # try to read the data from saved csv's\n",
    "        df = pd.read_csv(p)\n",
    "\n",
    "    except FileNotFoundError:\n",
    "\n",
    "        # download the data if the file does not exist\n",
    "        inlezen.monthly_csv_dump(api_key, year, month, data_directory, prefix)\n",
    "\n",
    "        df = pd.read_csv(p)\n",
    "\n",
    "    dfs.append(df)\n",
    "\n",
    "df = pd.concat(dfs)\n",
    "\n",
    "print(f'Read {df.shape[0]} measurements.')\n"
   ]
  },
  {
   "cell_type": "markdown",
   "metadata": {},
   "source": [
    "## Data preparation"
   ]
  },
  {
   "cell_type": "code",
   "execution_count": null,
   "metadata": {},
   "outputs": [],
   "source": [
    "# Get some insight in the error modes present in the dataset.\n",
    "opschonen.analyse_errors(df)\n"
   ]
  },
  {
   "cell_type": "code",
   "execution_count": null,
   "metadata": {},
   "outputs": [],
   "source": [
    "# Drop the errors.\n",
    "df = opschonen.verwijder_errors(df, error_codes=error_code_selection)\n"
   ]
  },
  {
   "cell_type": "code",
   "execution_count": null,
   "metadata": {},
   "outputs": [],
   "source": [
    "# Convert timestamps to datetime objects and add dt columns.\n",
    "df = analyse.bewerk_timestamp(df, split=True)\n"
   ]
  },
  {
   "cell_type": "code",
   "execution_count": null,
   "metadata": {},
   "outputs": [],
   "source": [
    "# Split measurements into rides and add cycle stat columns.\n",
    "df = analyse.split_in_ritten(df, t_seconden=rit_splitter_interval)\n"
   ]
  },
  {
   "cell_type": "code",
   "execution_count": null,
   "metadata": {},
   "outputs": [],
   "source": [
    "# Filter the rides.\n",
    "df = analyse.filter_ritten(df, **ritfilters)\n"
   ]
  },
  {
   "cell_type": "code",
   "execution_count": null,
   "metadata": {},
   "outputs": [],
   "source": []
  },
  {
   "cell_type": "markdown",
   "metadata": {},
   "source": [
    "## Summary Snuffelfiets statistics."
   ]
  },
  {
   "cell_type": "code",
   "execution_count": null,
   "metadata": {},
   "outputs": [],
   "source": [
    "def printfun(period, sumstats):\n",
    "\n",
    "    print(f'\\n==== {period} ====\\n')\n",
    "\n",
    "    print(f\"Aantal fietsers: {sumstats['fietsers']['N']}\\n\")\n",
    "\n",
    "    print(f\"{' ':20} {'totaal':12} {'gemiddeld':12} {'topper':12}\")\n",
    "    print(f'-' * 56)\n",
    "    stat = 'uren'\n",
    "    print(f\"FIETSTIJD [uur]:  {sumstats[stat]['N']:12f} {sumstats[stat]['G']:12f} {sumstats[stat]['M']:12f}\")\n",
    "    stat = 'afstand'\n",
    "    print(f\"AFSTAND    [km]:  {sumstats[stat]['N']:12f} {sumstats[stat]['G']:12f} {sumstats[stat]['M']:12f}\")\n",
    "    stat = 'ritten'\n",
    "    print(f\"RITTEN      [#]:  {sumstats[stat]['N']:12f} {sumstats[stat]['G']:12f} {sumstats[stat]['M']:12f}\")\n"
   ]
  },
  {
   "cell_type": "code",
   "execution_count": null,
   "metadata": {},
   "outputs": [],
   "source": [
    "# Print the summary statistics for the period.\n",
    "sumstats = analyse.summary_stats(df)\n",
    "printfun(period_id, sumstats)\n"
   ]
  },
  {
   "cell_type": "code",
   "execution_count": null,
   "metadata": {},
   "outputs": [],
   "source": [
    "# Print the summary statistics for the months in the quarter.\n",
    "for m, dfm in df.groupby('month'):\n",
    "    sumstats = analyse.summary_stats(dfm)\n",
    "    printfun(f'{year}{m:02d}', sumstats)\n"
   ]
  },
  {
   "cell_type": "code",
   "execution_count": null,
   "metadata": {},
   "outputs": [],
   "source": []
  },
  {
   "cell_type": "markdown",
   "metadata": {},
   "source": [
    "## Air quality evaluation"
   ]
  },
  {
   "cell_type": "code",
   "execution_count": null,
   "metadata": {},
   "outputs": [],
   "source": [
    "# Plot categorical hist of PM2.5 values.\n",
    "def plot_hbar_cat(df, bins, labels, title=''):\n",
    "    df[f'{var}_cat'] = pd.cut(df[var], bins=bins, labels=labels)\n",
    "    ax = df[['entity_id', f'{var}_cat']].groupby(f'{var}_cat', observed=False).count().plot.barh(stacked=True, legend=False)\n",
    "    ax.invert_yaxis()\n",
    "    ax.axes.get_yaxis().get_label().set_visible(False)\n",
    "    ax.axes.get_xaxis().set_label_text(\"Measurement count\")\n",
    "    ax.set_title(title)\n",
    "\n",
    "var = 'pm2_5'\n",
    "bins = [0, 1, 2, 5, 10, 20, 50, 100, 200, 500, 1000]\n",
    "labels = [0, 1, 2, 5, 10, 20, 50, 100, 200, 500]\n",
    "plot_hbar_cat(df, bins, labels, title='PM2.5')\n"
   ]
  },
  {
   "cell_type": "code",
   "execution_count": null,
   "metadata": {},
   "outputs": [],
   "source": [
    "# Limit the PM2.5 values. FIXME: we need a better and validated method\n",
    "df['pm2_5'][df['pm2_5'] >= threshold_pm2_5] = np.nan\n",
    "\n",
    "# Plot the histogram.\n",
    "df['pm2_5'].hist(bins=200, grid=False)\n"
   ]
  },
  {
   "cell_type": "code",
   "execution_count": null,
   "metadata": {},
   "outputs": [],
   "source": [
    "## Hexbin plots of PM2.5\n",
    "\n",
    "# Remove datapoints outside of the map area \n",
    "#   because it would take a very long time to process large areas.\n",
    "#   TODO: doe dit op ritniveau (verwijderen ritten deels of geheel buiten de target area)\n",
    "latlon = {\n",
    "    'latitude': {'center': mapbox_center['lat'], 'extent': mapbox_extent},\n",
    "    'longitude': {'center': mapbox_center['lon'], 'extent': mapbox_extent},\n",
    "}\n",
    "df = opschonen.filter_lat_lon(df, latlon)\n",
    "\n",
    "# Plot the data for the period.\n",
    "hexbin_args['title'] = period_id\n",
    "fig = plotting.hexbin_mapbox(df, hexagon_size, hexbin_args, layout_args)\n",
    "\n",
    "# Save image\n",
    "filestem = f'{period_id}_hexbin'\n",
    "output_stem = Path(output_directory, filestem)\n",
    "fig.write_html(f\"{output_stem}.html\")\n",
    "fig.write_image(f\"{output_stem}.png\")\n",
    "fig.write_image(f\"{output_stem}.pdf\")\n",
    "\n",
    "# Plot the data for each month.\n",
    "for m, dfm in df.groupby('month'):\n",
    "\n",
    "    yyyymm = f'{year}{m:02d}'\n",
    "    hexbin_args['title'] = yyyymm\n",
    "    fig = plotting.hexbin_mapbox(dfm, hexagon_size, hexbin_args, layout_args)\n",
    "\n",
    "    # Save image\n",
    "    filestem = f'{yyyymm}_hexbin'\n",
    "    output_stem = Path(output_directory, filestem)\n",
    "    fig.write_html(f\"{output_stem}.html\")\n",
    "    fig.write_image(f\"{output_stem}.png\")\n",
    "    fig.write_image(f\"{output_stem}.pdf\")\n"
   ]
  },
  {
   "cell_type": "code",
   "execution_count": null,
   "metadata": {},
   "outputs": [],
   "source": []
  },
  {
   "cell_type": "markdown",
   "metadata": {},
   "source": [
    "## Uitgelicht 2023-Q1: Fijnstof en regen."
   ]
  },
  {
   "cell_type": "code",
   "execution_count": null,
   "metadata": {},
   "outputs": [],
   "source": [
    "# Specify the date range.\n",
    "import calendar\n",
    "lastday = calendar.monthrange(year, months[-1])[1]\n",
    "dt_min = f'{year}-{months[0]}-1 00:00:00'\n",
    "dt_max = f'{year}-{months[-1]}-{lastday} 23:59:59'\n",
    "\n",
    "variables = {\n",
    "    'RH': 'Etmaalsom van de neerslag [mm]',\n",
    "    'TG': 'Etmaalgem van de temperatuur [grC]',\n",
    "    'FG': 'Etmaalgem van de windsnelheid [m/s]',\n",
    "}\n",
    "\n",
    "# Import the weather data.\n",
    "dfr = analyse.import_knmi_data(dt_min, dt_max, interval='dag', stations=[260], variables=variables.keys())\n",
    "dfr.RH = dfr.RH.values / 10  # RH: Etmaalsom van de neerslag (in 0.1 mm) (-1 voor <0.05 mm)\n",
    "dfr.TG = dfr.TG.values / 10  # TG: Etmaalgem van de temperatuur (in 0.1 gr C)\n",
    "dfr.FG = dfr.FG.values / 10  # FG: Etmaalgem van de windsnelheid (in 0.1 m/s)\n"
   ]
  },
  {
   "cell_type": "code",
   "execution_count": null,
   "metadata": {},
   "outputs": [],
   "source": [
    "# Print the monthly pm2.5 average.\n",
    "df.loc[: , ['month', 'pm2_5']].groupby('month').mean()\n"
   ]
  },
  {
   "cell_type": "code",
   "execution_count": null,
   "metadata": {},
   "outputs": [],
   "source": [
    "# Print the monthly rainfall sum.\n",
    "dfr['month'] = dfr.index.month\n",
    "dfr.loc[: , ['month'] + list(variables.keys())].groupby('month').sum()\n"
   ]
  },
  {
   "cell_type": "code",
   "execution_count": null,
   "metadata": {},
   "outputs": [],
   "source": [
    "# Calculate the mean daily PM2.5 value.\n",
    "sfday = df.loc[:, ['pm2_5', 'day', 'month', 'year']].groupby(['day', 'month', 'year']).mean()\n",
    "# Add to the weather data frame.\n",
    "dfr['pm2_5'] = np.array(sfday['pm2_5'])\n"
   ]
  },
  {
   "cell_type": "code",
   "execution_count": null,
   "metadata": {},
   "outputs": [],
   "source": [
    "# Plot the data.\n",
    "import matplotlib.pyplot as plt\n",
    "\n",
    "def plot_knmi_trace(dfr, colname, label=''):\n",
    "\n",
    "    fig, ax1 = plt.subplots(dpi=300)\n",
    "    ax2 = ax1.twinx()\n",
    "\n",
    "    ax1.plot(dfr.index, dfr.pm2_5, c='C1')\n",
    "    ax2.plot(dfr.index, dfr[colname], c='C0')\n",
    "\n",
    "    ax1.set_ylabel('PM2.5 [ug/m3]', color='C1')\n",
    "    ax2.set_ylabel(label, color='C0')\n",
    "\n",
    "    ax1.plot([dfr.index[0], dfr.index[-1]], [25, 25], c='C1',linestyle='--')\n",
    "    plt.text(0.86, 0.56, 'norm', c='C1', transform=ax1.transAxes)\n",
    "    ax1.xaxis.set_tick_params(rotation=45)\n",
    "    plt.grid(linestyle=':')\n"
   ]
  },
  {
   "cell_type": "code",
   "execution_count": null,
   "metadata": {},
   "outputs": [],
   "source": [
    "for colname, label in variables.items():\n",
    "    plot_knmi_trace(dfr, colname, label)"
   ]
  },
  {
   "cell_type": "code",
   "execution_count": null,
   "metadata": {},
   "outputs": [],
   "source": []
  },
  {
   "cell_type": "markdown",
   "metadata": {},
   "source": [
    "## Uitgelicht 2023-Q2: Fietsgedrag.\n"
   ]
  },
  {
   "cell_type": "code",
   "execution_count": null,
   "metadata": {},
   "outputs": [],
   "source": [
    "# Total number of rides.\n",
    "Nritten = len(np.unique(df.loc[:,['rit_id']]))\n"
   ]
  },
  {
   "cell_type": "code",
   "execution_count": null,
   "metadata": {},
   "outputs": [],
   "source": [
    "p_dict = {'jaar': ['elk', 'dit'], 'kwartaal': ['elk', 'dit'], 'maand': ['elke', 'deze']}\n",
    "print(f\"We geven jullie {p_dict[period_spec][0]} {period_spec} hiernaast de Toppers, maar niet elk ritje kan uitzonderlijk zijn.\")\n",
    "print(f\"We zoomen dit keer in op de {Nritten} ritten die er gemaakt zijn {p_dict[period_spec][0]} {period_spec}.\")\n",
    "print(\"Hoe ziet zo’n ritje er over het algemeen uit en waar fietsen jullie het meest?\")\n"
   ]
  },
  {
   "cell_type": "code",
   "execution_count": null,
   "metadata": {},
   "outputs": [],
   "source": [
    "# Get aggregated rides dataframe.\n",
    "options = {\n",
    "    'rit_id': ['count'],\n",
    "    'duur':['sum'],\n",
    "    'afstand': ['sum'],\n",
    "    'snelheid': ['mean'],\n",
    "    }\n",
    "df_ritten = df.groupby(['entity_id', 'rit_id']).agg(options)\n",
    "df_ritten = df_ritten.reset_index(level=['entity_id', 'rit_id'])\n",
    "cols = ['entity_id', 'rit_id', 'aantal_waarn', 'duur', 'afstand', 'snelheid_mean']\n",
    "df_ritten = df_ritten.set_axis(cols, axis=1)\n",
    "df_ritten\n"
   ]
  },
  {
   "cell_type": "code",
   "execution_count": null,
   "metadata": {},
   "outputs": [],
   "source": [
    "# Perform unit conversions.\n",
    "df_ritten['duur_h'] = df_ritten['duur'].dt.total_seconds() / 3600  # h\n",
    "df_ritten['afstand_km'] = df_ritten['afstand'] / 1000  # km\n",
    "df_ritten['snelheid_mean_kph'] = df_ritten['snelheid_mean'] / 1000 * 3600 # kph\n"
   ]
  },
  {
   "cell_type": "code",
   "execution_count": null,
   "metadata": {},
   "outputs": [],
   "source": [
    "# Plot simple histograms.\n",
    "df_ritten[['duur_h', 'afstand_km', 'snelheid_mean_kph']].hist(bins=20, grid=False, figsize=(9, 3), layout=(1, 3))\n"
   ]
  },
  {
   "cell_type": "code",
   "execution_count": null,
   "metadata": {},
   "outputs": [],
   "source": [
    "# Duur van de ritten.\n",
    "Nritten_lang = int(np.sum(df_ritten[['duur_h']] > 4))\n",
    "Nritten_kort = int(np.sum(df_ritten[['duur_h']] < 5/60))\n",
    "Pritten_kort = int((Nritten_kort / Nritten) * 100)\n"
   ]
  },
  {
   "cell_type": "code",
   "execution_count": null,
   "metadata": {},
   "outputs": [],
   "source": [
    "print(f\"De meeste ritten zijn korter dan een uur.\")\n",
    "print(f\"Een klein deel ({Pritten_kort}%) is zelfs korter dan 5 minuten.\")\n",
    "print(f\"{Nritten_lang} ritten waren langer dan 4 uur.\")\n"
   ]
  },
  {
   "cell_type": "code",
   "execution_count": null,
   "metadata": {},
   "outputs": [],
   "source": [
    "# Afstand van de ritten.\n",
    "Nritten_dichtbij = int(np.sum(df_ritten[['afstand_km']] < 5))\n",
    "Pritten_dichtbij = int((Nritten_dichtbij / Nritten) * 100)\n",
    "\n",
    "far = df_ritten.loc[df_ritten['afstand_km'] > 20]\n",
    "far.describe()\n"
   ]
  },
  {
   "cell_type": "code",
   "execution_count": null,
   "metadata": {},
   "outputs": [],
   "source": [
    "print(f\"Lokale ritjes lijken dan ook het populairst: meer dan de helft ({Pritten_dichtbij}%) is korter dan 5 kilometer.\")\n"
   ]
  },
  {
   "cell_type": "code",
   "execution_count": null,
   "metadata": {},
   "outputs": [],
   "source": [
    "# Snelheid van de ritten.\n",
    "fast = df_ritten.loc[df_ritten['snelheid_mean_kph'] > 25]\n",
    "Nritten_fast = int(np.sum(df_ritten[['duur_h']] > 4))\n",
    "fast_and_far = fast.loc[fast['afstand_km'] > 20]\n",
    "Pfast_and_far = int((fast_and_far.shape[0] / fast.shape[0]) * 100)\n",
    "\n",
    "slow = df_ritten.loc[df_ritten['snelheid_mean_kph'] < 5]\n"
   ]
  },
  {
   "cell_type": "code",
   "execution_count": null,
   "metadata": {},
   "outputs": [],
   "source": [
    "print(\"Er is best wat variatie in de snelheid die gefietst wordt.\")\n",
    "print(f\"{fast.shape[0]} ritten bereikten een gemiddelde snelheid hoger dan 25 km/u.\")\n",
    "print(f\"Het merendeel ({Pfast_and_far}%) hiervan waren langere ritten van meer dan 20 km!\")\n",
    "print(f\"Relaxte ritjes (< 5 km/u) waren er ook genoeg. In {slow.shape[0]} ritjes werd gemiddeld {np.mean(slow['afstand_km']):.1f} km afgelegd.\")\n"
   ]
  },
  {
   "cell_type": "code",
   "execution_count": null,
   "metadata": {},
   "outputs": [],
   "source": []
  },
  {
   "cell_type": "code",
   "execution_count": null,
   "metadata": {},
   "outputs": [],
   "source": [
    "# Plot categorical graphs.\n",
    "\n",
    "p_dict = {'jaar': [0, 10000, 2500], 'kwartaal': [0, 2500, 1000], 'maand': [0, 1000, 250]}\n",
    "\n",
    "def plot_hbar_cat(ax, df, bins, labels, title='', xslc=p_dict[period_spec]):\n",
    "    df[f'{var}_cat'] = pd.cut(df[var], bins=bins, labels=labels)\n",
    "    ax = df[['entity_id', f'{var}_cat']].groupby(f'{var}_cat', observed=False).count().plot.barh(stacked=True, legend=False, ax=ax)\n",
    "    ax.invert_yaxis()\n",
    "    ax.axes.get_yaxis().get_label().set_visible(False)\n",
    "    # ax.axes.get_xaxis().set_label_text(\"Aantal ritten\")\n",
    "    ax.set_xlim(xslc[0], xslc[1])\n",
    "    ax.set_xticks(range(xslc[0], xslc[1], xslc[2]))\n",
    "    ax.set_title(title)\n",
    "\n",
    "import matplotlib.pyplot as plt\n",
    "fig, axs = plt.subplots(3, 1, figsize=(3, 9), sharex=True)\n",
    "\n",
    "var = 'duur_h'\n",
    "bins = [0.00, 0.0833, 0.25, 0.50, 1.00, 4.00, np.inf]\n",
    "labels = ['< 5 min', '5-15 min', '15-30 min', '30-60 min', '1-4 uur', '> 4 uur']\n",
    "plot_hbar_cat(axs[0], df_ritten, bins, labels, title='Duur van de ritten')\n",
    "\n",
    "var = 'afstand_km'\n",
    "bins = [0.00, 0.25, 1.00, 5.00, 10.00, 20.00, np.inf]\n",
    "labels = ['< 250 m', '250-1000 m', '1-5 km', '5-10 km', '10-20 km', '> 20 km']\n",
    "plot_hbar_cat(axs[1], df_ritten, bins, labels, title='Afstand van de ritten')\n",
    "\n",
    "var = 'snelheid_mean_kph'\n",
    "bins = [0.00, 5.00, 10.00, 15.00, 20.00, 25.00, np.inf]\n",
    "labels = ['< 5 km/u', '5-10 km/u', '10-15 km/u', '15-20 km/u', '20-25 km/u', '> 25 km/u']\n",
    "plot_hbar_cat(axs[2], df_ritten, bins, labels, title='Snelheid van de ritten')\n",
    "\n",
    "axs[2].axes.get_xaxis().set_label_text(\"Aantal ritten\")\n"
   ]
  },
  {
   "cell_type": "code",
   "execution_count": null,
   "metadata": {},
   "outputs": [],
   "source": [
    "# Remove datapoints outside of the map area \n",
    "#   because it would take a very long time to process large areas.\n",
    "#   TODO: doe dit op ritniveau (verwijderen ritten deels of geheel buiten de target area)\n",
    "latlon = {\n",
    "    'latitude': {'center': mapbox_center['lat'], 'extent': mapbox_extent},\n",
    "    'longitude': {'center': mapbox_center['lon'], 'extent': mapbox_extent},\n",
    "}\n",
    "df = opschonen.filter_lat_lon(df, latlon)\n"
   ]
  },
  {
   "cell_type": "code",
   "execution_count": null,
   "metadata": {},
   "outputs": [],
   "source": [
    "# Identify a nice colormap.\n",
    "import plotly.express as px\n",
    "fig = px.colors.sequential.swatches_continuous()\n",
    "fig.show()\n",
    "\n",
    "# => Simple jet may be best\n"
   ]
  },
  {
   "cell_type": "code",
   "execution_count": null,
   "metadata": {},
   "outputs": [],
   "source": [
    "# Count measurement, rides and users in a hexbin.\n",
    "\n",
    "import plotly.figure_factory as ff\n",
    "\n",
    "\n",
    "# agg function to count unique rides and users in the honeycomb.\n",
    "def n_unique(x):\n",
    "    return(len(np.unique(x)))\n",
    "\n",
    "# shared arguments\n",
    "hexbin_args = {\n",
    "    'data_frame': df,\n",
    "    'lat': 'latitude',\n",
    "    'lon': 'longitude',\n",
    "    'color_continuous_scale': 'jet',  # bluered\n",
    "    'min_count': 1,\n",
    "    'animation_frame': None,\n",
    "    'width': 1920,\n",
    "    'height': 1080,\n",
    "    'opacity': 0.3,\n",
    "    'zoom': 10,\n",
    "    'center': mapbox_center,\n",
    "    'show_original_data': False,\n",
    "    'labels': {'color': 'N'}, \n",
    "    }\n",
    "layout_args = {\n",
    "    'mapbox_style': 'open-street-map',\n",
    "    'coloraxis_showscale': True,\n",
    "    'mapbox_layers': mapbox_layers,\n",
    "    'margin': dict(b=0, t=0, l=0, r=0),\n",
    "    }\n",
    "\n",
    "# specific arguments\n",
    "pars = {\n",
    "    'counts': {\n",
    "        'color': None,\n",
    "        'agg_func': None,\n",
    "        'labels': {'color': 'N'},\n",
    "        'range_color': [0, 2000],\n",
    "        },\n",
    "    'rides': {\n",
    "        'color': 'rit_id',\n",
    "        'agg_func': n_unique,\n",
    "        'labels': {'color': 'ritten'},\n",
    "        'range_color': [0, 150],\n",
    "        },\n",
    "    'users': {\n",
    "        'color': 'entity_id',\n",
    "        'agg_func': n_unique,\n",
    "        'labels': None,\n",
    "        'range_color': [0, 10],\n",
    "        },\n",
    "}\n",
    "\n",
    "for k, par in pars.items():\n",
    "\n",
    "    # Replace keys.\n",
    "    hexbin_args = {**hexbin_args, **par}\n",
    "\n",
    "    # Plot the data for each month.\n",
    "    hexbin_args['title'] = period_id\n",
    "    hexbin_args['nx_hexagon'] = np.ceil(\n",
    "        (df['longitude'].max() - df['longitude'].min()) / hexagon_size,\n",
    "        ).astype('int')\n",
    "    fig = ff.create_hexbin_mapbox(**hexbin_args)\n",
    "    fig.update_layout(**layout_args)\n",
    "    fig.update_coloraxes(colorbar_tickfont_size=35)\n",
    "\n",
    "    # Save image\n",
    "    filestem = f'{period_id}_hexbin_{k}'\n",
    "    output_stem = Path(output_directory, filestem)\n",
    "    fig.write_html(f\"{output_stem}.html\")\n",
    "    fig.write_image(f\"{output_stem}.png\")\n",
    "    fig.write_image(f\"{output_stem}.pdf\")\n"
   ]
  },
  {
   "cell_type": "code",
   "execution_count": null,
   "metadata": {},
   "outputs": [],
   "source": []
  }
 ],
 "metadata": {
  "kernelspec": {
   "display_name": "snuffelfiets",
   "language": "python",
   "name": "python3"
  },
  "language_info": {
   "codemirror_mode": {
    "name": "ipython",
    "version": 3
   },
   "file_extension": ".py",
   "mimetype": "text/x-python",
   "name": "python",
   "nbconvert_exporter": "python",
   "pygments_lexer": "ipython3",
   "version": "3.11.6"
  },
  "orig_nbformat": 4
 },
 "nbformat": 4,
 "nbformat_minor": 2
}
