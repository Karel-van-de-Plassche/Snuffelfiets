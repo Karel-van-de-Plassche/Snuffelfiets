{
 "cells": [
  {
   "cell_type": "markdown",
   "metadata": {},
   "source": [
    "# Snuffelfiets kwartaalrapportages"
   ]
  },
  {
   "cell_type": "markdown",
   "metadata": {},
   "source": [
    "## Settings."
   ]
  },
  {
   "cell_type": "code",
   "execution_count": null,
   "metadata": {},
   "outputs": [],
   "source": [
    "# Generieke imports, variabelen en functies.\n",
    "\n",
    "from pathlib import Path\n",
    "\n",
    "import numpy as np\n",
    "import pandas as pd\n",
    "\n",
    "from snuffelfiets import inlezen, opschonen, analyse, plotting\n",
    "\n",
    "api_key = ''  # voeg hier de API key toe\n",
    "\n",
    "data_directory = Path('~','kwartaalrapportage').expanduser()\n",
    "\n",
    "# date range selection settings\n",
    "quarter = 'Q1'\n",
    "year = '2023'\n",
    "quarters = {\n",
    "    'Q1': [1, 2, 3], \n",
    "    'Q2': [4, 5, 6], \n",
    "    'Q3': [7, 8, 9], \n",
    "    'Q4': [10, 11, 12], \n",
    "}\n",
    "yq = f'{year}_{quarter}'\n",
    "\n",
    "# data processing settings\n",
    "error_code_selection = []\n",
    "rit_splitter_interval = 1800  # s\n",
    "ritfilters = dict(\n",
    "    min_measurements=2,     # #\n",
    "    max_duration=360,       # minutes\n",
    "    max_distance=200,       # kilometers\n",
    "    min_average_speed=1,    # km/h\n",
    "    max_average_speed=35,   # km/h\n",
    "    )\n",
    "threshold_pm2_5 = 100\n",
    "\n",
    "# mapbox settings (in degrees latlon)\n",
    "b = {\n",
    "    'N': [52.303634, 5.013507],\n",
    "    'Z':  [51.858631, 5.040462],\n",
    "    'O':  [51.954780, 5.627990],\n",
    "    'W':  [52.226808, 4.794457],\n",
    "}\n",
    "mapbox_center = {\n",
    "    'lat': b['Z'][0] + 0.5 * (b['N'][0] - b['Z'][0]),\n",
    "    'lon': b['W'][1] + 0.5 * (b['O'][1] - b['W'][1]),\n",
    "}\n",
    "mapbox_extent = 1\n",
    "hexagon_size = 0.010\n",
    "hexbin_args = {\n",
    "    'agg_func': np.nanmean,\n",
    "    'color_continuous_scale': plotting.discrete_colorscale(),\n",
    "    'range_color': [0, 100],\n",
    "    'min_count': 2,\n",
    "    'animation_frame': None,\n",
    "    'width': 1920,\n",
    "    'height': 1080,\n",
    "    'opacity': 1.0,\n",
    "    'zoom': 10,\n",
    "    'center': mapbox_center,\n",
    "    }\n",
    "# add Utrecht polygons\n",
    "# Import Utrecht province and township polygons\n",
    "provincies, gemeenten = plotting.get_borders_utrecht(data_directory)\n",
    "mapbox_layers = [{\n",
    "    \"name\": \"Gemeenten\",\n",
    "    \"below\": 'traces',\n",
    "    \"sourcetype\": \"geojson\",\n",
    "    \"type\": \"line\",\n",
    "    \"color\": \"gray\",\n",
    "    \"source\": gemeenten,\n",
    "    }, \n",
    "    {\n",
    "    \"name\": \"Provincies\",\n",
    "    \"below\": 'traces',\n",
    "    \"sourcetype\": \"geojson\",\n",
    "    \"type\": \"line\",\n",
    "    \"color\": \"red\",\n",
    "    \"source\": provincies,\n",
    "    }]\n",
    "layout_args = {\n",
    "    'mapbox_style': 'open-street-map',\n",
    "    'coloraxis_showscale': False,\n",
    "    'mapbox_layers': mapbox_layers,\n",
    "    }\n",
    "\n",
    "# Directories\n",
    "output_directory = Path(data_directory, yq)\n",
    "output_directory.mkdir(parents=True, exist_ok=True)\n",
    "\n",
    "print(f'Analysing quarter {yq}; writing output to {output_directory}.')\n"
   ]
  },
  {
   "cell_type": "code",
   "execution_count": null,
   "metadata": {},
   "outputs": [],
   "source": []
  },
  {
   "cell_type": "markdown",
   "metadata": {},
   "source": [
    "## Data preparation"
   ]
  },
  {
   "cell_type": "code",
   "execution_count": null,
   "metadata": {},
   "outputs": [],
   "source": [
    "# Read data from the database.  # NOTE: reading in monthly chunks because of serverside errors when trying to pull the full quarter\n",
    "\n",
    "dfs = []\n",
    "for i in quarters[quarter]:\n",
    "    start_datum = f'{year}-{i:02d}-01'\n",
    "    stop_datum = f'{year+1}-01-01' if i==12 else f'{year}-{i+1:02d}-01'\n",
    "    df = inlezen.call_api(api_key, start_datum, stop_datum)\n",
    "    dfs.append(df)\n",
    "df = pd.concat(dfs)\n",
    "\n",
    "filename = f'api_gegevens_{yq}.pickle'\n",
    "p = Path(output_directory, filename)\n",
    "df.to_pickle(p)\n",
    "\n",
    "print(f'Read {df.shape[0]} measurements; saved raw data to {filename}.')\n"
   ]
  },
  {
   "cell_type": "code",
   "execution_count": null,
   "metadata": {},
   "outputs": [],
   "source": [
    "# Drop the errors.\n",
    "df = opschonen.verwijder_errors(df, error_codes=error_code_selection)\n"
   ]
  },
  {
   "cell_type": "code",
   "execution_count": null,
   "metadata": {},
   "outputs": [],
   "source": [
    "# Correct units of selected columns.\n",
    "df = opschonen.correct_units(df)\n"
   ]
  },
  {
   "cell_type": "code",
   "execution_count": null,
   "metadata": {},
   "outputs": [],
   "source": [
    "# Convert timestamps to datetime objects and add dt columns.\n",
    "df = analyse.bewerk_timestamp(df, split=True)\n"
   ]
  },
  {
   "cell_type": "code",
   "execution_count": null,
   "metadata": {},
   "outputs": [],
   "source": [
    "# Split measuremnts into rides and add cycle stat columns.\n",
    "df = analyse.split_in_ritten(df, t_seconden=rit_splitter_interval)\n"
   ]
  },
  {
   "cell_type": "code",
   "execution_count": null,
   "metadata": {},
   "outputs": [],
   "source": [
    "# Filter the rides.\n",
    "df = analyse.filter_ritten(df, **ritfilters)\n"
   ]
  },
  {
   "cell_type": "code",
   "execution_count": null,
   "metadata": {},
   "outputs": [],
   "source": [
    "# Limiteer de PM2.5 waardes. FIXME: er is een betere methode nodig\n",
    "df['pm2_5'][df['pm2_5'] >= threshold_pm2_5] = np.nan\n"
   ]
  },
  {
   "cell_type": "code",
   "execution_count": null,
   "metadata": {},
   "outputs": [],
   "source": []
  },
  {
   "cell_type": "markdown",
   "metadata": {},
   "source": [
    "## Summary Snuffelfiets statistics."
   ]
  },
  {
   "cell_type": "code",
   "execution_count": null,
   "metadata": {},
   "outputs": [],
   "source": [
    "def printfun(period, sumstats):\n",
    "\n",
    "    print(f'\\n==== {period} ====\\n')\n",
    "\n",
    "    print(f\"Aantal fietsers: {sumstats['fietsers']['N']}\\n\")\n",
    "\n",
    "    print(f\"{' ':20} {'totaal':12} {'gemiddeld':12} {'topper':12}\")\n",
    "    print(f'-' * 56)\n",
    "    stat = 'uren'\n",
    "    print(f\"FIETSTIJD [uur]:  {sumstats[stat]['N']:12f} {sumstats[stat]['G']:12f} {sumstats[stat]['M']:12f}\")\n",
    "    stat = 'afstand'\n",
    "    print(f\"AFSTAND    [km]:  {sumstats[stat]['N']:12f} {sumstats[stat]['G']:12f} {sumstats[stat]['M']:12f}\")\n",
    "    stat = 'ritten'\n",
    "    print(f\"RITTEN      [#]:  {sumstats[stat]['N']:12f} {sumstats[stat]['G']:12f} {sumstats[stat]['M']:12f}\")\n",
    "\n"
   ]
  },
  {
   "cell_type": "code",
   "execution_count": null,
   "metadata": {},
   "outputs": [],
   "source": [
    "# Print the summary statistics for the quarter.\n",
    "sumstats = analyse.summary_stats(df)\n",
    "printfun(quarter, sumstats)\n"
   ]
  },
  {
   "cell_type": "code",
   "execution_count": null,
   "metadata": {},
   "outputs": [],
   "source": [
    "# Print the summary statistics for the months in the quarter.\n",
    "for i, dfm in df.groupby('month'):\n",
    "    sumstats = analyse.summary_stats(dfm)\n",
    "    printfun(f'2023{i:02d}', sumstats)\n"
   ]
  },
  {
   "cell_type": "code",
   "execution_count": null,
   "metadata": {},
   "outputs": [],
   "source": []
  },
  {
   "cell_type": "markdown",
   "metadata": {},
   "source": [
    "## Hexbin plots"
   ]
  },
  {
   "cell_type": "code",
   "execution_count": null,
   "metadata": {},
   "outputs": [],
   "source": [
    "# Remove datapoints outside of the map area \n",
    "#   because it would take a very long time to process large areas.\n",
    "#   TODO: doe dit op ritniveau (verwijderen ritten deels of geheel buiten de target area)\n",
    "latlon = {\n",
    "    'latitude': {'center': mapbox_center['lat'], 'extent': mapbox_extent},\n",
    "    'longitude': {'center': mapbox_center['lon'], 'extent': mapbox_extent},\n",
    "}\n",
    "df = opschonen.filter_lat_lon(df, latlon)\n",
    "\n",
    "# Plot the data for each month.\n",
    "for i, dfm in df.groupby('month'):\n",
    "\n",
    "    yyyymm = f'{year}{i:02d}'\n",
    "    hexbin_args['title'] = yyyymm\n",
    "    fig = plotting.hexbin_mapbox(dfm, hexagon_size, hexbin_args, layout_args)\n",
    "\n",
    "    # Save image\n",
    "    filestem = f'{yyyymm}_hexbin'\n",
    "    output_stem = Path(output_directory, filestem)\n",
    "    fig.write_html(f\"{output_stem}.html\")\n",
    "    fig.write_image(f\"{output_stem}.png\")\n",
    "    fig.write_image(f\"{output_stem}.pdf\")\n"
   ]
  },
  {
   "cell_type": "code",
   "execution_count": null,
   "metadata": {},
   "outputs": [],
   "source": []
  },
  {
   "cell_type": "markdown",
   "metadata": {},
   "source": [
    "## Uitgelicht 2023-Q1: Fijnstof en regen."
   ]
  },
  {
   "cell_type": "code",
   "execution_count": null,
   "metadata": {},
   "outputs": [],
   "source": [
    "# Specify the date range.\n",
    "import calendar\n",
    "months = quarters[quarter]\n",
    "lastday = calendar.monthrange(int(year), quarters[quarter][2])[1]\n",
    "dt_min = f'{year}-{months[0]}-1 00:00:00'\n",
    "dt_max = f'{year}-{months[2]}-{lastday} 23:59:59'\n",
    "\n",
    "# Import the weather data.\n",
    "dfr = analyse.import_knmi_data(dt_min, dt_max, interval='dag', stations=[260], variables=['RH'])\n",
    "dfr.RH = dfr.RH.values / 10  # RH: Etmaalsom van de neerslag (in 0.1 mm) (-1 voor <0.05 mm)\n"
   ]
  },
  {
   "cell_type": "code",
   "execution_count": null,
   "metadata": {},
   "outputs": [],
   "source": [
    "# Calculate the mean daily PM2.5 value.\n",
    "sfday = df.loc[:, ['pm2_5', 'day', 'month', 'year']].groupby(['day', 'month', 'year']).mean()\n",
    "# Add to the weather data frame.\n",
    "dfr['pm2_5'] = np.array(sfday['pm2_5'])\n"
   ]
  },
  {
   "cell_type": "code",
   "execution_count": null,
   "metadata": {},
   "outputs": [],
   "source": [
    "# Plot the data.\n",
    "import matplotlib.pyplot as plt\n",
    "\n",
    "fig, ax1 = plt.subplots(dpi=300)\n",
    "ax2 = ax1.twinx()\n",
    "\n",
    "ax1.plot(dfr.index, dfr.pm2_5, c='C1')\n",
    "ax2.plot(dfr.index, dfr.RH, c='C0')\n",
    "\n",
    "ax1.set_ylabel('PM2.5 [ug/m3]', color='C1')\n",
    "ax2.set_ylabel('Etmaalsom van de neerslag [mm]', color='C0')\n",
    "\n",
    "ax1.plot([dfr.index[0], dfr.index[-1]], [25, 25], c='C1',linestyle='--')\n",
    "plt.text(0.86, 0.56, 'norm', c='C1', transform=ax1.transAxes)\n",
    "ax1.xaxis.set_tick_params(rotation=45)\n",
    "plt.grid(linestyle=':')\n"
   ]
  },
  {
   "cell_type": "code",
   "execution_count": null,
   "metadata": {},
   "outputs": [],
   "source": []
  }
 ],
 "metadata": {
  "kernelspec": {
   "display_name": "snuffelfiets",
   "language": "python",
   "name": "python3"
  },
  "language_info": {
   "codemirror_mode": {
    "name": "ipython",
    "version": 3
   },
   "file_extension": ".py",
   "mimetype": "text/x-python",
   "name": "python",
   "nbconvert_exporter": "python",
   "pygments_lexer": "ipython3",
   "version": "3.11.6"
  },
  "orig_nbformat": 4
 },
 "nbformat": 4,
 "nbformat_minor": 2
}
