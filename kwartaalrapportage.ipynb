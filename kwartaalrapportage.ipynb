{
 "cells": [
  {
   "cell_type": "markdown",
   "metadata": {},
   "source": [
    "# Snuffelfiets kwartaalrapportages"
   ]
  },
  {
   "cell_type": "code",
   "execution_count": null,
   "metadata": {},
   "outputs": [],
   "source": [
    "# Generieke imports, variabelen en functies.\n",
    "\n",
    "from pathlib import Path\n",
    "\n",
    "import numpy as np\n",
    "import pandas as pd\n",
    "\n",
    "from snuffelfiets import inlezen, opschonen, analyse, plotting\n",
    "\n",
    "api_key = ''  # voeg hier de API key toe\n",
    "data_directory = Path('~', 'kwartaalrapportage').expanduser()\n",
    "year = '2023'\n",
    "quarter = 'Q1'\n",
    "\n",
    "quarters = {\n",
    "    'Q1': [1, 2, 3], \n",
    "    'Q2': [4, 5, 6], \n",
    "    'Q3': [7, 8, 9], \n",
    "    'Q4': [10, 11, 12], \n",
    "}\n",
    "yq = f'{year}_{quarter}'\n",
    "\n",
    "output_directory = Path(data_directory, yq)\n",
    "output_directory.mkdir(parents=True, exist_ok=True)\n",
    "\n",
    "print(f'Analysing quarter {yq}; writing output to {output_directory}.')\n"
   ]
  },
  {
   "cell_type": "code",
   "execution_count": null,
   "metadata": {},
   "outputs": [],
   "source": [
    "# Read data from the database.\n",
    "# NOTE: reading in monthly chunks because of serverside errors when trying to pull the full quarter\n",
    "\n",
    "dfs = []\n",
    "for i in quarters[quarter]:\n",
    "    start_datum = f'{year}-{i:02d}-01'\n",
    "    stop_datum = f'{year+1}-01-01' if i==12 else f'{year}-{i+1:02d}-01'\n",
    "    df = inlezen.call_api(api_key, start_datum, stop_datum)\n",
    "    dfs.append(df)\n",
    "df = pd.concat(dfs)\n",
    "\n",
    "filename = f'api_gegevens_{yq}.pickle'\n",
    "p = Path(output_directory, filename)\n",
    "df.to_pickle(p)\n",
    "\n",
    "print(f'Read {df.shape[0]} measurements; saved raw data to {filename}.')\n"
   ]
  },
  {
   "cell_type": "code",
   "execution_count": null,
   "metadata": {},
   "outputs": [],
   "source": []
  }
 ],
 "metadata": {
  "kernelspec": {
   "display_name": "snuffelfiets",
   "language": "python",
   "name": "python3"
  },
  "language_info": {
   "codemirror_mode": {
    "name": "ipython",
    "version": 3
   },
   "file_extension": ".py",
   "mimetype": "text/x-python",
   "name": "python",
   "nbconvert_exporter": "python",
   "pygments_lexer": "ipython3",
   "version": "3.11.6"
  },
  "orig_nbformat": 4
 },
 "nbformat": 4,
 "nbformat_minor": 2
}
