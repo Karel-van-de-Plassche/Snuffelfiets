{
 "cells": [
  {
   "cell_type": "markdown",
   "metadata": {},
   "source": [
    "# Snuffelfiets kwartaalrapportages"
   ]
  },
  {
   "cell_type": "code",
   "execution_count": null,
   "metadata": {},
   "outputs": [],
   "source": [
    "# Generieke imports, variabelen en functies.\n",
    "\n",
    "from pathlib import Path\n",
    "\n",
    "import numpy as np\n",
    "import pandas as pd\n",
    "\n",
    "from snuffelfiets import inlezen, opschonen, analyse, plotting\n",
    "\n",
    "api_key = ''  # voeg hier de API key toe\n",
    "data_directory = Path('~','kwartaalrapportage').expanduser()\n",
    "year = '2023'\n",
    "quarter = 'Q1'\n",
    "\n",
    "quarters = {\n",
    "    'Q1': [1, 2, 3], \n",
    "    'Q2': [4, 5, 6], \n",
    "    'Q3': [7, 8, 9], \n",
    "    'Q4': [10, 11, 12], \n",
    "}\n",
    "yq = f'{year}_{quarter}'\n",
    "\n",
    "output_directory = Path(data_directory, yq)\n",
    "output_directory.mkdir(parents=True, exist_ok=True)\n",
    "\n",
    "print(f'Analysing quarter {yq}; writing output to {output_directory}.')\n"
   ]
  },
  {
   "cell_type": "code",
   "execution_count": null,
   "metadata": {},
   "outputs": [],
   "source": [
    "# Read data from the database.\n",
    "# NOTE: reading in monthly chunks because of serverside errors when trying to pull the full quarter\n",
    "\n",
    "dfs = []\n",
    "for i in quarters[quarter]:\n",
    "    start_datum = f'{year}-{i:02d}-01'\n",
    "    stop_datum = f'{year+1}-01-01' if i==12 else f'{year}-{i+1:02d}-01'\n",
    "    df = inlezen.call_api(api_key, start_datum, stop_datum)\n",
    "    dfs.append(df)\n",
    "df = pd.concat(dfs)\n",
    "\n",
    "filename = f'api_gegevens_{yq}.pickle'\n",
    "p = Path(output_directory, filename)\n",
    "df.to_pickle(p)\n",
    "\n",
    "print(f'Read {df.shape[0]} measurements; saved raw data to {filename}.')\n"
   ]
  },
  {
   "cell_type": "code",
   "execution_count": null,
   "metadata": {},
   "outputs": [],
   "source": [
    "# Drop the errors.\n",
    "df = opschonen.verwijder_errors(df)\n"
   ]
  },
  {
   "cell_type": "code",
   "execution_count": null,
   "metadata": {},
   "outputs": [],
   "source": [
    "# Correct units of selected columns.\n",
    "df = opschonen.correct_units(df)\n"
   ]
  },
  {
   "cell_type": "code",
   "execution_count": null,
   "metadata": {},
   "outputs": [],
   "source": [
    "# Convert timestamps to datetime objects and add dt columns.\n",
    "df = analyse.bewerk_timestamp(df, split=True)\n"
   ]
  },
  {
   "cell_type": "code",
   "execution_count": null,
   "metadata": {},
   "outputs": [],
   "source": [
    "# Split measuremnts into rides and add cycle stat columns.\n",
    "df = analyse.split_in_ritten(df, t_seconden=1800)\n"
   ]
  },
  {
   "cell_type": "code",
   "execution_count": null,
   "metadata": {},
   "outputs": [],
   "source": [
    "# Filter the rides.\n",
    "df = analyse.filter_ritten(df)\n"
   ]
  },
  {
   "cell_type": "code",
   "execution_count": null,
   "metadata": {},
   "outputs": [],
   "source": [
    "# Print the summary statistics.\n",
    "\n",
    "def printfun(period, sumstats):\n",
    "\n",
    "    print(f'\\n==== {period} ====\\n')\n",
    "\n",
    "    print(f\"Aantal fietsers: {sumstats['fietsers']['N']}\\n\")\n",
    "\n",
    "    print(f\"{' ':20} {'totaal':12} {'gemiddeld':12} {'topper':12}\")\n",
    "    print(f'-' * 56)\n",
    "    stat = 'uren'\n",
    "    print(f\"FIETSTIJD [uur]:  {sumstats[stat]['N']:12f} {sumstats[stat]['G']:12f} {sumstats[stat]['M']:12f}\")\n",
    "    stat = 'afstand'\n",
    "    print(f\"AFSTAND    [km]:  {sumstats[stat]['N']:12f} {sumstats[stat]['G']:12f} {sumstats[stat]['M']:12f}\")\n",
    "    stat = 'ritten'\n",
    "    print(f\"RITTEN      [#]:  {sumstats[stat]['N']:12f} {sumstats[stat]['G']:12f} {sumstats[stat]['M']:12f}\")\n",
    "\n",
    "sumstats = analyse.summary_stats(df)\n",
    "printfun(quarter, sumstats)\n"
   ]
  },
  {
   "cell_type": "code",
   "execution_count": null,
   "metadata": {},
   "outputs": [],
   "source": [
    "for i, dfm in df.groupby('month'):\n",
    "    sumstats = analyse.summary_stats(dfm)\n",
    "    printfun(f'2023{i:02d}', sumstats)\n"
   ]
  },
  {
   "cell_type": "code",
   "execution_count": null,
   "metadata": {},
   "outputs": [],
   "source": []
  }
 ],
 "metadata": {
  "kernelspec": {
   "display_name": "snuffelfiets",
   "language": "python",
   "name": "python3"
  },
  "language_info": {
   "codemirror_mode": {
    "name": "ipython",
    "version": 3
   },
   "file_extension": ".py",
   "mimetype": "text/x-python",
   "name": "python",
   "nbconvert_exporter": "python",
   "pygments_lexer": "ipython3",
   "version": "3.11.6"
  },
  "orig_nbformat": 4
 },
 "nbformat": 4,
 "nbformat_minor": 2
}
